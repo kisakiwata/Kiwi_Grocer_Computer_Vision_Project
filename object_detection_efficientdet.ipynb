{
  "cells": [
    {
      "cell_type": "markdown",
      "metadata": {
        "id": "V8-yl-s-WKMG"
      },
      "source": [
        "# Object Detection API Demo\n",
        "\n",
        "<table align=\"left\"><td>\n",
        "  <a target=\"_blank\"  href=\"https://colab.sandbox.google.com/github/tensorflow/models/blob/master/research/object_detection/colab_tutorials/object_detection_tutorial.ipynb\">\n",
        "    <img src=\"https://www.tensorflow.org/images/colab_logo_32px.png\" />Run in Google Colab\n",
        "  </a>\n",
        "</td><td>\n",
        "  <a target=\"_blank\"  href=\"https://github.com/tensorflow/models/blob/master/research/object_detection/colab_tutorials/object_detection_tutorial.ipynb\">\n",
        "    <img width=32px src=\"https://www.tensorflow.org/images/GitHub-Mark-32px.png\" />View source on GitHub</a>\n",
        "</td></table>"
      ]
    },
    {
      "cell_type": "markdown",
      "metadata": {
        "id": "3cIrseUv6WKz"
      },
      "source": [
        "Welcome to the [Object Detection API](https://github.com/tensorflow/models/tree/master/research/object_detection). This notebook will walk you step by step through the process of using a pre-trained model to detect objects in an image."
      ]
    },
    {
      "cell_type": "markdown",
      "metadata": {
        "id": "VrJaG0cYN9yh"
      },
      "source": [
        "> **Important**: This tutorial is to help you through the first step towards using [Object Detection API](https://github.com/tensorflow/models/tree/master/research/object_detection) to build models. If you just just need an off the shelf model that does the job, see the [TFHub object detection example](https://colab.sandbox.google.com/github/tensorflow/hub/blob/master/examples/colab/object_detection.ipynb)."
      ]
    },
    {
      "cell_type": "markdown",
      "metadata": {
        "id": "kFSqkTCdWKMI"
      },
      "source": [
        "# Setup"
      ]
    },
    {
      "cell_type": "markdown",
      "metadata": {
        "id": "awjrpqy-6MaQ"
      },
      "source": [
        "Important: If you're running on a local machine, be sure to follow the [installation instructions](https://github.com/tensorflow/models/blob/master/research/object_detection/g3doc/tf2.md). This notebook includes only what's necessary to run in Colab."
      ]
    },
    {
      "cell_type": "markdown",
      "metadata": {
        "id": "p3UGXxUii5Ym"
      },
      "source": [
        "### Install"
      ]
    },
    {
      "cell_type": "code",
      "execution_count": null,
      "metadata": {
        "colab": {
          "base_uri": "https://localhost:8080/"
        },
        "id": "hGL97-GXjSUw",
        "outputId": "8c780e1a-e189-4cee-e43b-c00084117dae"
      },
      "outputs": [
        {
          "name": "stdout",
          "output_type": "stream",
          "text": [
            "Requirement already satisfied: tensorflow==2.* in /usr/local/lib/python3.10/dist-packages (2.12.0)\n",
            "Collecting tensorflow==2.*\n",
            "  Downloading tensorflow-2.13.0-cp310-cp310-manylinux_2_17_x86_64.manylinux2014_x86_64.whl (524.1 MB)\n",
            "\u001b[2K     \u001b[90m━━━━━━━━━━━━━━━━━━━━━━━━━━━━━━━━━━━━━━━\u001b[0m \u001b[32m524.1/524.1 MB\u001b[0m \u001b[31m2.7 MB/s\u001b[0m eta \u001b[36m0:00:00\u001b[0m\n",
            "\u001b[?25hRequirement already satisfied: absl-py>=1.0.0 in /usr/local/lib/python3.10/dist-packages (from tensorflow==2.*) (1.4.0)\n",
            "Requirement already satisfied: astunparse>=1.6.0 in /usr/local/lib/python3.10/dist-packages (from tensorflow==2.*) (1.6.3)\n",
            "Requirement already satisfied: flatbuffers>=23.1.21 in /usr/local/lib/python3.10/dist-packages (from tensorflow==2.*) (23.5.26)\n",
            "Requirement already satisfied: gast<=0.4.0,>=0.2.1 in /usr/local/lib/python3.10/dist-packages (from tensorflow==2.*) (0.4.0)\n",
            "Requirement already satisfied: google-pasta>=0.1.1 in /usr/local/lib/python3.10/dist-packages (from tensorflow==2.*) (0.2.0)\n",
            "Requirement already satisfied: grpcio<2.0,>=1.24.3 in /usr/local/lib/python3.10/dist-packages (from tensorflow==2.*) (1.56.0)\n",
            "Requirement already satisfied: h5py>=2.9.0 in /usr/local/lib/python3.10/dist-packages (from tensorflow==2.*) (3.8.0)\n",
            "Collecting keras<2.14,>=2.13.1 (from tensorflow==2.*)\n",
            "  Downloading keras-2.13.1-py3-none-any.whl (1.7 MB)\n",
            "\u001b[2K     \u001b[90m━━━━━━━━━━━━━━━━━━━━━━━━━━━━━━━━━━━━━━━━\u001b[0m \u001b[32m1.7/1.7 MB\u001b[0m \u001b[31m34.7 MB/s\u001b[0m eta \u001b[36m0:00:00\u001b[0m\n",
            "\u001b[?25hRequirement already satisfied: libclang>=13.0.0 in /usr/local/lib/python3.10/dist-packages (from tensorflow==2.*) (16.0.0)\n",
            "Requirement already satisfied: numpy<=1.24.3,>=1.22 in /usr/local/lib/python3.10/dist-packages (from tensorflow==2.*) (1.22.4)\n",
            "Requirement already satisfied: opt-einsum>=2.3.2 in /usr/local/lib/python3.10/dist-packages (from tensorflow==2.*) (3.3.0)\n",
            "Requirement already satisfied: packaging in /usr/local/lib/python3.10/dist-packages (from tensorflow==2.*) (23.1)\n",
            "Requirement already satisfied: protobuf!=4.21.0,!=4.21.1,!=4.21.2,!=4.21.3,!=4.21.4,!=4.21.5,<5.0.0dev,>=3.20.3 in /usr/local/lib/python3.10/dist-packages (from tensorflow==2.*) (3.20.3)\n",
            "Requirement already satisfied: setuptools in /usr/local/lib/python3.10/dist-packages (from tensorflow==2.*) (67.7.2)\n",
            "Requirement already satisfied: six>=1.12.0 in /usr/local/lib/python3.10/dist-packages (from tensorflow==2.*) (1.16.0)\n",
            "Collecting tensorboard<2.14,>=2.13 (from tensorflow==2.*)\n",
            "  Downloading tensorboard-2.13.0-py3-none-any.whl (5.6 MB)\n",
            "\u001b[2K     \u001b[90m━━━━━━━━━━━━━━━━━━━━━━━━━━━━━━━━━━━━━━━━\u001b[0m \u001b[32m5.6/5.6 MB\u001b[0m \u001b[31m35.9 MB/s\u001b[0m eta \u001b[36m0:00:00\u001b[0m\n",
            "\u001b[?25hCollecting tensorflow-estimator<2.14,>=2.13.0 (from tensorflow==2.*)\n",
            "  Downloading tensorflow_estimator-2.13.0-py2.py3-none-any.whl (440 kB)\n",
            "\u001b[2K     \u001b[90m━━━━━━━━━━━━━━━━━━━━━━━━━━━━━━━━━━━━━━\u001b[0m \u001b[32m440.8/440.8 kB\u001b[0m \u001b[31m40.5 MB/s\u001b[0m eta \u001b[36m0:00:00\u001b[0m\n",
            "\u001b[?25hRequirement already satisfied: termcolor>=1.1.0 in /usr/local/lib/python3.10/dist-packages (from tensorflow==2.*) (2.3.0)\n",
            "Collecting typing-extensions<4.6.0,>=3.6.6 (from tensorflow==2.*)\n",
            "  Downloading typing_extensions-4.5.0-py3-none-any.whl (27 kB)\n",
            "Requirement already satisfied: wrapt>=1.11.0 in /usr/local/lib/python3.10/dist-packages (from tensorflow==2.*) (1.14.1)\n",
            "Requirement already satisfied: tensorflow-io-gcs-filesystem>=0.23.1 in /usr/local/lib/python3.10/dist-packages (from tensorflow==2.*) (0.32.0)\n",
            "Requirement already satisfied: wheel<1.0,>=0.23.0 in /usr/local/lib/python3.10/dist-packages (from astunparse>=1.6.0->tensorflow==2.*) (0.40.0)\n",
            "Requirement already satisfied: google-auth<3,>=1.6.3 in /usr/local/lib/python3.10/dist-packages (from tensorboard<2.14,>=2.13->tensorflow==2.*) (2.17.3)\n",
            "Requirement already satisfied: google-auth-oauthlib<1.1,>=0.5 in /usr/local/lib/python3.10/dist-packages (from tensorboard<2.14,>=2.13->tensorflow==2.*) (1.0.0)\n",
            "Requirement already satisfied: markdown>=2.6.8 in /usr/local/lib/python3.10/dist-packages (from tensorboard<2.14,>=2.13->tensorflow==2.*) (3.4.3)\n",
            "Requirement already satisfied: requests<3,>=2.21.0 in /usr/local/lib/python3.10/dist-packages (from tensorboard<2.14,>=2.13->tensorflow==2.*) (2.27.1)\n",
            "Requirement already satisfied: tensorboard-data-server<0.8.0,>=0.7.0 in /usr/local/lib/python3.10/dist-packages (from tensorboard<2.14,>=2.13->tensorflow==2.*) (0.7.1)\n",
            "Requirement already satisfied: werkzeug>=1.0.1 in /usr/local/lib/python3.10/dist-packages (from tensorboard<2.14,>=2.13->tensorflow==2.*) (2.3.6)\n",
            "Requirement already satisfied: cachetools<6.0,>=2.0.0 in /usr/local/lib/python3.10/dist-packages (from google-auth<3,>=1.6.3->tensorboard<2.14,>=2.13->tensorflow==2.*) (5.3.1)\n",
            "Requirement already satisfied: pyasn1-modules>=0.2.1 in /usr/local/lib/python3.10/dist-packages (from google-auth<3,>=1.6.3->tensorboard<2.14,>=2.13->tensorflow==2.*) (0.3.0)\n",
            "Requirement already satisfied: rsa<5,>=3.1.4 in /usr/local/lib/python3.10/dist-packages (from google-auth<3,>=1.6.3->tensorboard<2.14,>=2.13->tensorflow==2.*) (4.9)\n",
            "Requirement already satisfied: requests-oauthlib>=0.7.0 in /usr/local/lib/python3.10/dist-packages (from google-auth-oauthlib<1.1,>=0.5->tensorboard<2.14,>=2.13->tensorflow==2.*) (1.3.1)\n",
            "Requirement already satisfied: urllib3<1.27,>=1.21.1 in /usr/local/lib/python3.10/dist-packages (from requests<3,>=2.21.0->tensorboard<2.14,>=2.13->tensorflow==2.*) (1.26.16)\n",
            "Requirement already satisfied: certifi>=2017.4.17 in /usr/local/lib/python3.10/dist-packages (from requests<3,>=2.21.0->tensorboard<2.14,>=2.13->tensorflow==2.*) (2023.5.7)\n",
            "Requirement already satisfied: charset-normalizer~=2.0.0 in /usr/local/lib/python3.10/dist-packages (from requests<3,>=2.21.0->tensorboard<2.14,>=2.13->tensorflow==2.*) (2.0.12)\n",
            "Requirement already satisfied: idna<4,>=2.5 in /usr/local/lib/python3.10/dist-packages (from requests<3,>=2.21.0->tensorboard<2.14,>=2.13->tensorflow==2.*) (3.4)\n",
            "Requirement already satisfied: MarkupSafe>=2.1.1 in /usr/local/lib/python3.10/dist-packages (from werkzeug>=1.0.1->tensorboard<2.14,>=2.13->tensorflow==2.*) (2.1.3)\n",
            "Requirement already satisfied: pyasn1<0.6.0,>=0.4.6 in /usr/local/lib/python3.10/dist-packages (from pyasn1-modules>=0.2.1->google-auth<3,>=1.6.3->tensorboard<2.14,>=2.13->tensorflow==2.*) (0.5.0)\n",
            "Requirement already satisfied: oauthlib>=3.0.0 in /usr/local/lib/python3.10/dist-packages (from requests-oauthlib>=0.7.0->google-auth-oauthlib<1.1,>=0.5->tensorboard<2.14,>=2.13->tensorflow==2.*) (3.2.2)\n",
            "Installing collected packages: typing-extensions, tensorflow-estimator, keras, tensorboard, tensorflow\n",
            "  Attempting uninstall: typing-extensions\n",
            "    Found existing installation: typing_extensions 4.7.1\n",
            "    Uninstalling typing_extensions-4.7.1:\n",
            "      Successfully uninstalled typing_extensions-4.7.1\n",
            "  Attempting uninstall: tensorflow-estimator\n",
            "    Found existing installation: tensorflow-estimator 2.12.0\n",
            "    Uninstalling tensorflow-estimator-2.12.0:\n",
            "      Successfully uninstalled tensorflow-estimator-2.12.0\n",
            "  Attempting uninstall: keras\n",
            "    Found existing installation: keras 2.12.0\n",
            "    Uninstalling keras-2.12.0:\n",
            "      Successfully uninstalled keras-2.12.0\n",
            "  Attempting uninstall: tensorboard\n",
            "    Found existing installation: tensorboard 2.12.3\n",
            "    Uninstalling tensorboard-2.12.3:\n",
            "      Successfully uninstalled tensorboard-2.12.3\n",
            "  Attempting uninstall: tensorflow\n",
            "    Found existing installation: tensorflow 2.12.0\n",
            "    Uninstalling tensorflow-2.12.0:\n",
            "      Successfully uninstalled tensorflow-2.12.0\n",
            "Successfully installed keras-2.13.1 tensorboard-2.13.0 tensorflow-2.13.0 tensorflow-estimator-2.13.0 typing-extensions-4.5.0\n",
            "Requirement already satisfied: tf_slim in /usr/local/lib/python3.10/dist-packages (1.1.0)\n",
            "Requirement already satisfied: absl-py>=0.2.2 in /usr/local/lib/python3.10/dist-packages (from tf_slim) (1.4.0)\n"
          ]
        }
      ],
      "source": [
        "!pip install -U --pre tensorflow==\"2.*\"\n",
        "!pip install tf_slim"
      ]
    },
    {
      "cell_type": "markdown",
      "metadata": {
        "id": "n_ap_s9ajTHH"
      },
      "source": [
        "Make sure you have `pycocotools` installed"
      ]
    },
    {
      "cell_type": "code",
      "execution_count": null,
      "metadata": {
        "colab": {
          "base_uri": "https://localhost:8080/"
        },
        "id": "Bg8ZyA47i3pY",
        "outputId": "6b5370b4-3881-40c4-e26e-838702de7648"
      },
      "outputs": [
        {
          "name": "stdout",
          "output_type": "stream",
          "text": [
            "Requirement already satisfied: pycocotools in /usr/local/lib/python3.10/dist-packages (2.0.6)\n",
            "Requirement already satisfied: matplotlib>=2.1.0 in /usr/local/lib/python3.10/dist-packages (from pycocotools) (3.7.1)\n",
            "Requirement already satisfied: numpy in /usr/local/lib/python3.10/dist-packages (from pycocotools) (1.22.4)\n",
            "Requirement already satisfied: contourpy>=1.0.1 in /usr/local/lib/python3.10/dist-packages (from matplotlib>=2.1.0->pycocotools) (1.1.0)\n",
            "Requirement already satisfied: cycler>=0.10 in /usr/local/lib/python3.10/dist-packages (from matplotlib>=2.1.0->pycocotools) (0.11.0)\n",
            "Requirement already satisfied: fonttools>=4.22.0 in /usr/local/lib/python3.10/dist-packages (from matplotlib>=2.1.0->pycocotools) (4.40.0)\n",
            "Requirement already satisfied: kiwisolver>=1.0.1 in /usr/local/lib/python3.10/dist-packages (from matplotlib>=2.1.0->pycocotools) (1.4.4)\n",
            "Requirement already satisfied: packaging>=20.0 in /usr/local/lib/python3.10/dist-packages (from matplotlib>=2.1.0->pycocotools) (23.1)\n",
            "Requirement already satisfied: pillow>=6.2.0 in /usr/local/lib/python3.10/dist-packages (from matplotlib>=2.1.0->pycocotools) (8.4.0)\n",
            "Requirement already satisfied: pyparsing>=2.3.1 in /usr/local/lib/python3.10/dist-packages (from matplotlib>=2.1.0->pycocotools) (3.1.0)\n",
            "Requirement already satisfied: python-dateutil>=2.7 in /usr/local/lib/python3.10/dist-packages (from matplotlib>=2.1.0->pycocotools) (2.8.2)\n",
            "Requirement already satisfied: six>=1.5 in /usr/local/lib/python3.10/dist-packages (from python-dateutil>=2.7->matplotlib>=2.1.0->pycocotools) (1.16.0)\n"
          ]
        }
      ],
      "source": [
        "!pip install pycocotools"
      ]
    },
    {
      "cell_type": "markdown",
      "metadata": {
        "id": "-vsOL3QR6kqs"
      },
      "source": [
        "Get `tensorflow/models` or `cd` to parent directory of the repository."
      ]
    },
    {
      "cell_type": "code",
      "execution_count": null,
      "metadata": {
        "colab": {
          "base_uri": "https://localhost:8080/"
        },
        "id": "ykA0c-om51s1",
        "outputId": "1991d196-efc7-44bc-af29-3bb0758be655"
      },
      "outputs": [
        {
          "name": "stdout",
          "output_type": "stream",
          "text": [
            "Cloning into 'models'...\n",
            "remote: Enumerating objects: 3916, done.\u001b[K\n",
            "remote: Counting objects: 100% (3916/3916), done.\u001b[K\n",
            "remote: Compressing objects: 100% (3054/3054), done.\u001b[K\n",
            "remote: Total 3916 (delta 1117), reused 1766 (delta 809), pack-reused 0\u001b[K\n",
            "Receiving objects: 100% (3916/3916), 49.66 MiB | 16.30 MiB/s, done.\n",
            "Resolving deltas: 100% (1117/1117), done.\n",
            "Updating files: 100% (3545/3545), done.\n"
          ]
        }
      ],
      "source": [
        "import os\n",
        "import pathlib\n",
        "import sys\n",
        "\n",
        "\n",
        "if \"models\" in pathlib.Path.cwd().parts:\n",
        "  while \"models\" in pathlib.Path.cwd().parts:\n",
        "    os.chdir('..')\n",
        "elif not pathlib.Path('models').exists():\n",
        "  !git clone --depth 1 https://github.com/tensorflow/models"
      ]
    },
    {
      "cell_type": "markdown",
      "metadata": {
        "id": "O219m6yWAj9l"
      },
      "source": [
        "Compile protobufs and install the object_detection package"
      ]
    },
    {
      "cell_type": "code",
      "execution_count": null,
      "metadata": {
        "id": "PY41vdYYNlXc"
      },
      "outputs": [],
      "source": [
        "%%bash\n",
        "cd models/research/\n",
        "protoc object_detection/protos/*.proto --python_out=."
      ]
    },
    {
      "cell_type": "code",
      "execution_count": null,
      "metadata": {
        "id": "s62yJyQUcYbp"
      },
      "outputs": [],
      "source": [
        "%%capture\n",
        "if \"research\" not in os.getcwd():\n",
        "  !git clone --depth 1 https://github.com/tensorflow/models\n",
        "  os.chdir('models/research')\n",
        "  sys.path.append('.')\n",
        "  ! cd models/research\n",
        "  ! pip install .\n",
        "else:\n",
        "  !git pull"
      ]
    },
    {
      "cell_type": "markdown",
      "metadata": {
        "id": "LBdjK2G5ywuc"
      },
      "source": [
        "### Imports"
      ]
    },
    {
      "cell_type": "code",
      "execution_count": null,
      "metadata": {
        "id": "hV4P5gyTWKMI"
      },
      "outputs": [],
      "source": [
        "import numpy as np\n",
        "import os\n",
        "import six.moves.urllib as urllib\n",
        "import tarfile\n",
        "import tensorflow as tf\n",
        "import zipfile\n",
        "\n",
        "from collections import defaultdict\n",
        "from io import StringIO\n",
        "from matplotlib import pyplot as plt\n",
        "from PIL import Image\n",
        "from IPython.display import display"
      ]
    },
    {
      "cell_type": "markdown",
      "metadata": {
        "id": "r5FNuiRPWKMN"
      },
      "source": [
        "Import the object detection module."
      ]
    },
    {
      "cell_type": "code",
      "execution_count": null,
      "metadata": {
        "id": "4-IMl4b6BdGO"
      },
      "outputs": [],
      "source": [
        "from object_detection.utils import ops as utils_ops\n",
        "from object_detection.utils import label_map_util\n",
        "from object_detection.utils import visualization_utils as vis_util"
      ]
    },
    {
      "cell_type": "markdown",
      "metadata": {
        "id": "RYPCiag2iz_q"
      },
      "source": [
        "Patches:"
      ]
    },
    {
      "cell_type": "code",
      "execution_count": null,
      "metadata": {
        "id": "mF-YlMl8c_bM"
      },
      "outputs": [],
      "source": [
        "# patch tf1 into `utils.ops`\n",
        "utils_ops.tf = tf.compat.v1\n",
        "\n",
        "# Patch the location of gfile\n",
        "tf.gfile = tf.io.gfile"
      ]
    },
    {
      "cell_type": "markdown",
      "metadata": {
        "id": "cfn_tRFOWKMO"
      },
      "source": [
        "# Model preparation"
      ]
    },
    {
      "cell_type": "markdown",
      "metadata": {
        "id": "X_sEBLpVWKMQ"
      },
      "source": [
        "## Variables\n",
        "\n",
        "Any model exported using the `export_inference_graph.py` tool can be loaded here simply by changing the path.\n",
        "\n",
        "By default we use an \"SSD with Mobilenet\" model here. See the [detection model zoo](https://github.com/tensorflow/models/blob/master/research/object_detection/g3doc/detection_model_zoo.md) for a list of other models that can be run out-of-the-box with varying speeds and accuracies."
      ]
    },
    {
      "cell_type": "markdown",
      "metadata": {
        "id": "7ai8pLZZWKMS"
      },
      "source": [
        "## Loader"
      ]
    },
    {
      "cell_type": "code",
      "execution_count": null,
      "metadata": {
        "id": "zm8xp-0eoItE"
      },
      "outputs": [],
      "source": [
        "def load_model(model_name):\n",
        "  ## URL updated\n",
        "  base_url = 'http://download.tensorflow.org/models/object_detection/tf2/20200711/'\n",
        "  model_file = model_name + '.tar.gz'\n",
        "  model_dir = tf.keras.utils.get_file(\n",
        "    fname=model_name,\n",
        "    origin=base_url + model_file,\n",
        "    untar=True)\n",
        "\n",
        "  model_dir = pathlib.Path(model_dir)/\"saved_model\"\n",
        "\n",
        "  model = tf.saved_model.load(str(model_dir))\n",
        "\n",
        "  return model"
      ]
    },
    {
      "cell_type": "markdown",
      "metadata": {
        "id": "_1MVVTcLWKMW"
      },
      "source": [
        "## Loading label map\n",
        "Label maps map indices to category names, so that when our convolution network predicts `5`, we know that this corresponds to `airplane`.  Here we use internal utility functions, but anything that returns a dictionary mapping integers to appropriate string labels would be fine"
      ]
    },
    {
      "cell_type": "code",
      "execution_count": null,
      "metadata": {
        "colab": {
          "base_uri": "https://localhost:8080/",
          "height": 35
        },
        "id": "v-9UCLpVFexp",
        "outputId": "9928df79-0cda-4f97-8b20-76355765cc72"
      },
      "outputs": [
        {
          "data": {
            "application/vnd.google.colaboratory.intrinsic+json": {
              "type": "string"
            },
            "text/plain": [
              "'/content/models/research'"
            ]
          },
          "execution_count": 10,
          "metadata": {},
          "output_type": "execute_result"
        }
      ],
      "source": [
        "\n",
        "os.getcwd()"
      ]
    },
    {
      "cell_type": "code",
      "execution_count": null,
      "metadata": {
        "id": "hpFJryQyECNd"
      },
      "outputs": [],
      "source": [
        "# converting Json to protobuf\n",
        "\n",
        "import json\n",
        "\n",
        "from google.protobuf.json_format import Parse, ParseDict\n",
        "\n",
        "# d = {\n",
        "#     \"first\": \"a string\",\n",
        "#     \"second\": True,\n",
        "#     \"third\": 123456789\n",
        "# }\n",
        "\n",
        "# message = ParseDict(d, Thing())\n",
        "# # or\n",
        "# message = Parse(json.dumps(d), Thing())\n",
        "\n",
        "# print(message.first)  # \"a string\"\n",
        "# print(message.second) # True\n",
        "# print(message.third)  # 123456789"
      ]
    },
    {
      "cell_type": "code",
      "execution_count": null,
      "metadata": {
        "id": "hDbpHkiWWKMX"
      },
      "outputs": [],
      "source": [
        "# List of the strings that is used to add correct label for each box.\n",
        "# modify the path depending on os.getcwd()\n",
        "PATH_TO_LABELS = 'object_detection/data/mscoco_label_map.pbtxt'\n",
        "category_index = label_map_util.create_category_index_from_labelmap(PATH_TO_LABELS, use_display_name=True)"
      ]
    },
    {
      "cell_type": "markdown",
      "metadata": {
        "id": "oVU3U_J6IJVb"
      },
      "source": [
        "For the sake of simplicity we will test on 2 images:"
      ]
    },
    {
      "cell_type": "code",
      "execution_count": null,
      "metadata": {
        "colab": {
          "base_uri": "https://localhost:8080/"
        },
        "id": "jG-zn5ykWKMd",
        "outputId": "b1a7f0fc-3bce-4254-eea5-52ce67955554"
      },
      "outputs": [
        {
          "data": {
            "text/plain": [
              "[PosixPath('object_detection/test_images/image1.jpg'),\n",
              " PosixPath('object_detection/test_images/image2.jpg'),\n",
              " PosixPath('object_detection/test_images/image3.jpg')]"
            ]
          },
          "execution_count": 13,
          "metadata": {},
          "output_type": "execute_result"
        }
      ],
      "source": [
        "# If you want to test the code with your images, just add path to the images to the TEST_IMAGE_PATHS.\n",
        "\n",
        "## add different test images\n",
        "PATH_TO_TEST_IMAGES_DIR = pathlib.Path('object_detection/test_images')\n",
        "types = ('*.jpg', '*.jpeg', '*.png')\n",
        "files_grabbed = []\n",
        "for files in types:\n",
        "    files_grabbed.extend(PATH_TO_TEST_IMAGES_DIR.glob(files))\n",
        "TEST_IMAGE_PATHS = sorted(files_grabbed) #list(PATH_TO_TEST_IMAGES_DIR.glob(\"*.jpg\"))\n",
        "TEST_IMAGE_PATHS"
      ]
    },
    {
      "cell_type": "markdown",
      "metadata": {
        "id": "H0_1AGhrWKMc"
      },
      "source": [
        "# Detection"
      ]
    },
    {
      "cell_type": "markdown",
      "metadata": {
        "id": "f7aOtOlebK7h"
      },
      "source": [
        "Load an object detection model:"
      ]
    },
    {
      "cell_type": "code",
      "execution_count": null,
      "metadata": {
        "id": "pJAqtSkxLBcU"
      },
      "outputs": [],
      "source": [
        "def load_model(model_name):\n",
        "  base_url = 'http://download.tensorflow.org/models/object_detection/tf2/20200711/'\n",
        "  model_file = model_name + '.tar.gz'\n",
        "  model_dir = tf.keras.utils.get_file(\n",
        "    fname=model_name,\n",
        "    origin=base_url + model_file,\n",
        "    untar=True)\n",
        "\n",
        "  model_dir = pathlib.Path(model_dir)/\"saved_model\"\n",
        "\n",
        "  model = tf.saved_model.load(str(model_dir))\n",
        "\n",
        "  return model"
      ]
    },
    {
      "cell_type": "code",
      "execution_count": null,
      "metadata": {
        "id": "Bem0y9HAKms3"
      },
      "outputs": [],
      "source": [
        "# Download the saved model and put it into models/research/object_detection/test_data/\n",
        "# !wget http://download.tensorflow.org/models/object_detection/tf2/20200711/efficientdet_d0_coco17_tpu-32.tar.gz\n",
        "# !tar -xf efficientdet_d0_coco17_tpu-32.tar.gz\n",
        "# !mv efficientdet_d0_coco17_tpu-32.tar.gz/ models/research/object_detection/test_data/"
      ]
    },
    {
      "cell_type": "code",
      "execution_count": null,
      "metadata": {
        "colab": {
          "base_uri": "https://localhost:8080/"
        },
        "id": "1XNT0wxybKR6",
        "outputId": "112eed90-68d1-455f-81ae-beee6cb05c97"
      },
      "outputs": [
        {
          "name": "stdout",
          "output_type": "stream",
          "text": [
            "Downloading data from http://download.tensorflow.org/models/object_detection/tf2/20200711/efficientdet_d0_coco17_tpu-32.tar.gz\n",
            "30736482/30736482 [==============================] - 0s 0us/step\n"
          ]
        },
        {
          "name": "stderr",
          "output_type": "stream",
          "text": [
            "WARNING:absl:Importing a function (__inference___call___32344) with ops with unsaved custom gradients. Will likely fail if a gradient is requested.\n",
            "WARNING:absl:Importing a function (__inference_EfficientDet-D0_layer_call_and_return_conditional_losses_97451) with ops with unsaved custom gradients. Will likely fail if a gradient is requested.\n",
            "WARNING:absl:Importing a function (__inference_bifpn_layer_call_and_return_conditional_losses_77595) with ops with unsaved custom gradients. Will likely fail if a gradient is requested.\n",
            "WARNING:absl:Importing a function (__inference_EfficientDet-D0_layer_call_and_return_conditional_losses_103456) with ops with unsaved custom gradients. Will likely fail if a gradient is requested.\n",
            "WARNING:absl:Importing a function (__inference_EfficientDet-D0_layer_call_and_return_conditional_losses_93843) with ops with unsaved custom gradients. Will likely fail if a gradient is requested.\n",
            "WARNING:absl:Importing a function (__inference_EfficientDet-D0_layer_call_and_return_conditional_losses_107064) with ops with unsaved custom gradients. Will likely fail if a gradient is requested.\n",
            "WARNING:absl:Importing a function (__inference_bifpn_layer_call_and_return_conditional_losses_75975) with ops with unsaved custom gradients. Will likely fail if a gradient is requested.\n"
          ]
        }
      ],
      "source": [
        "model_name = 'efficientdet_d0_coco17_tpu-32'\n",
        "#http://download.tensorflow.org/models/object_detection/tf2/20200711/ssd_mobilenet_v1_fpn_640x640_coco17_tpu-8.tar.gz\n",
        "detection_model = load_model(model_name)\n"
      ]
    },
    {
      "cell_type": "code",
      "execution_count": null,
      "metadata": {
        "colab": {
          "base_uri": "https://localhost:8080/"
        },
        "id": "hb1rWclWecOe",
        "outputId": "18cd73ed-8de1-447e-d693-440d0b869d6b"
      },
      "outputs": [
        {
          "data": {
            "text/plain": [
              "48"
            ]
          },
          "execution_count": 17,
          "metadata": {},
          "output_type": "execute_result"
        }
      ],
      "source": [
        "import sys\n",
        "sys.getsizeof(detection_model)"
      ]
    },
    {
      "cell_type": "code",
      "execution_count": null,
      "metadata": {
        "id": "3AOsj-zxfXQ5"
      },
      "outputs": [],
      "source": [
        "\n",
        "import sys\n",
        "\n",
        "def get_size(obj, seen=None):\n",
        "    \"\"\"Recursively finds size of objects\"\"\"\n",
        "    size = sys.getsizeof(obj)\n",
        "    if seen is None:\n",
        "        seen = set()\n",
        "    obj_id = id(obj)\n",
        "    if obj_id in seen:\n",
        "        return 0\n",
        "    # Important mark as seen *before* entering recursion to gracefully handle\n",
        "    # self-referential objects\n",
        "    seen.add(obj_id)\n",
        "    if isinstance(obj, dict):\n",
        "        size += sum([get_size(v, seen) for v in obj.values()])\n",
        "        size += sum([get_size(k, seen) for k in obj.keys()])\n",
        "    elif hasattr(obj, '__dict__'):\n",
        "        size += get_size(obj.__dict__, seen)\n",
        "    elif hasattr(obj, '__iter__') and not isinstance(obj, (str, bytes, bytearray)):\n",
        "        size += sum([get_size(i, seen) for i in obj])\n",
        "    return size"
      ]
    },
    {
      "cell_type": "code",
      "execution_count": null,
      "metadata": {
        "colab": {
          "base_uri": "https://localhost:8080/"
        },
        "id": "G9SlO_I8fbP1",
        "outputId": "ad3f8767-f1a2-494c-918e-29e16ca9f0eb"
      },
      "outputs": [
        {
          "data": {
            "text/plain": [
              "20.532941818237305"
            ]
          },
          "execution_count": 19,
          "metadata": {},
          "output_type": "execute_result"
        }
      ],
      "source": [
        "kilo=get_size(detection_model)\n",
        "kilo/1024/1024"
      ]
    },
    {
      "cell_type": "markdown",
      "metadata": {
        "id": "yN1AYfAEJIGp"
      },
      "source": [
        "Check the model's input signature, it expects a batch of 3-color images of type uint8:"
      ]
    },
    {
      "cell_type": "code",
      "execution_count": null,
      "metadata": {
        "colab": {
          "base_uri": "https://localhost:8080/"
        },
        "id": "CK4cnry6wsHY",
        "outputId": "0e95eb4a-9a0c-4e30-dff7-f376a693b4ef"
      },
      "outputs": [
        {
          "name": "stdout",
          "output_type": "stream",
          "text": [
            "[<tf.Tensor 'input_tensor:0' shape=(1, None, None, 3) dtype=uint8>, <tf.Tensor 'unknown:0' shape=<unknown> dtype=resource>, <tf.Tensor 'unknown_0:0' shape=<unknown> dtype=resource>, <tf.Tensor 'unknown_1:0' shape=<unknown> dtype=resource>, <tf.Tensor 'unknown_2:0' shape=<unknown> dtype=resource>, <tf.Tensor 'unknown_3:0' shape=<unknown> dtype=resource>, <tf.Tensor 'unknown_4:0' shape=<unknown> dtype=resource>, <tf.Tensor 'unknown_5:0' shape=<unknown> dtype=resource>, <tf.Tensor 'unknown_6:0' shape=<unknown> dtype=resource>, <tf.Tensor 'unknown_7:0' shape=<unknown> dtype=resource>, <tf.Tensor 'unknown_8:0' shape=<unknown> dtype=resource>, <tf.Tensor 'unknown_9:0' shape=<unknown> dtype=resource>, <tf.Tensor 'unknown_10:0' shape=<unknown> dtype=resource>, <tf.Tensor 'unknown_11:0' shape=<unknown> dtype=resource>, <tf.Tensor 'unknown_12:0' shape=<unknown> dtype=resource>, <tf.Tensor 'unknown_13:0' shape=<unknown> dtype=resource>, <tf.Tensor 'unknown_14:0' shape=<unknown> dtype=resource>, <tf.Tensor 'unknown_15:0' shape=<unknown> dtype=resource>, <tf.Tensor 'unknown_16:0' shape=<unknown> dtype=resource>, <tf.Tensor 'unknown_17:0' shape=<unknown> dtype=resource>, <tf.Tensor 'unknown_18:0' shape=<unknown> dtype=resource>, <tf.Tensor 'unknown_19:0' shape=<unknown> dtype=resource>, <tf.Tensor 'unknown_20:0' shape=<unknown> dtype=resource>, <tf.Tensor 'unknown_21:0' shape=<unknown> dtype=resource>, <tf.Tensor 'unknown_22:0' shape=<unknown> dtype=resource>, <tf.Tensor 'unknown_23:0' shape=<unknown> dtype=resource>, <tf.Tensor 'unknown_24:0' shape=<unknown> dtype=resource>, <tf.Tensor 'unknown_25:0' shape=<unknown> dtype=resource>, <tf.Tensor 'unknown_26:0' shape=<unknown> dtype=resource>, <tf.Tensor 'unknown_27:0' shape=<unknown> dtype=resource>, <tf.Tensor 'unknown_28:0' shape=<unknown> dtype=resource>, <tf.Tensor 'unknown_29:0' shape=<unknown> dtype=resource>, <tf.Tensor 'unknown_30:0' shape=<unknown> dtype=resource>, <tf.Tensor 'unknown_31:0' shape=<unknown> dtype=resource>, <tf.Tensor 'unknown_32:0' shape=<unknown> dtype=resource>, <tf.Tensor 'unknown_33:0' shape=<unknown> dtype=resource>, <tf.Tensor 'unknown_34:0' shape=<unknown> dtype=resource>, <tf.Tensor 'unknown_35:0' shape=<unknown> dtype=resource>, <tf.Tensor 'unknown_36:0' shape=<unknown> dtype=resource>, <tf.Tensor 'unknown_37:0' shape=<unknown> dtype=resource>, <tf.Tensor 'unknown_38:0' shape=<unknown> dtype=resource>, <tf.Tensor 'unknown_39:0' shape=<unknown> dtype=resource>, <tf.Tensor 'unknown_40:0' shape=<unknown> dtype=resource>, <tf.Tensor 'unknown_41:0' shape=<unknown> dtype=resource>, <tf.Tensor 'unknown_42:0' shape=<unknown> dtype=resource>, <tf.Tensor 'unknown_43:0' shape=<unknown> dtype=resource>, <tf.Tensor 'unknown_44:0' shape=<unknown> dtype=resource>, <tf.Tensor 'unknown_45:0' shape=<unknown> dtype=resource>, <tf.Tensor 'unknown_46:0' shape=<unknown> dtype=resource>, <tf.Tensor 'unknown_47:0' shape=<unknown> dtype=resource>, <tf.Tensor 'unknown_48:0' shape=<unknown> dtype=resource>, <tf.Tensor 'unknown_49:0' shape=<unknown> dtype=resource>, <tf.Tensor 'unknown_50:0' shape=<unknown> dtype=resource>, <tf.Tensor 'unknown_51:0' shape=<unknown> dtype=resource>, <tf.Tensor 'unknown_52:0' shape=<unknown> dtype=resource>, <tf.Tensor 'unknown_53:0' shape=<unknown> dtype=resource>, <tf.Tensor 'unknown_54:0' shape=<unknown> dtype=resource>, <tf.Tensor 'unknown_55:0' shape=<unknown> dtype=resource>, <tf.Tensor 'unknown_56:0' shape=<unknown> dtype=resource>, <tf.Tensor 'unknown_57:0' shape=<unknown> dtype=resource>, <tf.Tensor 'unknown_58:0' shape=<unknown> dtype=resource>, <tf.Tensor 'unknown_59:0' shape=<unknown> dtype=resource>, <tf.Tensor 'unknown_60:0' shape=<unknown> dtype=resource>, <tf.Tensor 'unknown_61:0' shape=<unknown> dtype=resource>, <tf.Tensor 'unknown_62:0' shape=<unknown> dtype=resource>, <tf.Tensor 'unknown_63:0' shape=<unknown> dtype=resource>, <tf.Tensor 'unknown_64:0' shape=<unknown> dtype=resource>, <tf.Tensor 'unknown_65:0' shape=<unknown> dtype=resource>, <tf.Tensor 'unknown_66:0' shape=<unknown> dtype=resource>, <tf.Tensor 'unknown_67:0' shape=<unknown> dtype=resource>, <tf.Tensor 'unknown_68:0' shape=<unknown> dtype=resource>, <tf.Tensor 'unknown_69:0' shape=<unknown> dtype=resource>, <tf.Tensor 'unknown_70:0' shape=<unknown> dtype=resource>, <tf.Tensor 'unknown_71:0' shape=<unknown> dtype=resource>, <tf.Tensor 'unknown_72:0' shape=<unknown> dtype=resource>, <tf.Tensor 'unknown_73:0' shape=<unknown> dtype=resource>, <tf.Tensor 'unknown_74:0' shape=<unknown> dtype=resource>, <tf.Tensor 'unknown_75:0' shape=<unknown> dtype=resource>, <tf.Tensor 'unknown_76:0' shape=<unknown> dtype=resource>, <tf.Tensor 'unknown_77:0' shape=<unknown> dtype=resource>, <tf.Tensor 'unknown_78:0' shape=<unknown> dtype=resource>, <tf.Tensor 'unknown_79:0' shape=<unknown> dtype=resource>, <tf.Tensor 'unknown_80:0' shape=<unknown> dtype=resource>, <tf.Tensor 'unknown_81:0' shape=<unknown> dtype=resource>, <tf.Tensor 'unknown_82:0' shape=<unknown> dtype=resource>, <tf.Tensor 'unknown_83:0' shape=<unknown> dtype=resource>, <tf.Tensor 'unknown_84:0' shape=<unknown> dtype=resource>, <tf.Tensor 'unknown_85:0' shape=<unknown> dtype=resource>, <tf.Tensor 'unknown_86:0' shape=<unknown> dtype=resource>, <tf.Tensor 'unknown_87:0' shape=<unknown> dtype=resource>, <tf.Tensor 'unknown_88:0' shape=<unknown> dtype=resource>, <tf.Tensor 'unknown_89:0' shape=<unknown> dtype=resource>, <tf.Tensor 'unknown_90:0' shape=<unknown> dtype=resource>, <tf.Tensor 'unknown_91:0' shape=<unknown> dtype=resource>, <tf.Tensor 'unknown_92:0' shape=<unknown> dtype=resource>, <tf.Tensor 'unknown_93:0' shape=<unknown> dtype=resource>, <tf.Tensor 'unknown_94:0' shape=<unknown> dtype=resource>, <tf.Tensor 'unknown_95:0' shape=<unknown> dtype=resource>, <tf.Tensor 'unknown_96:0' shape=<unknown> dtype=resource>, <tf.Tensor 'unknown_97:0' shape=<unknown> dtype=resource>, <tf.Tensor 'unknown_98:0' shape=<unknown> dtype=resource>, <tf.Tensor 'unknown_99:0' shape=<unknown> dtype=resource>, <tf.Tensor 'unknown_100:0' shape=<unknown> dtype=resource>, <tf.Tensor 'unknown_101:0' shape=<unknown> dtype=resource>, <tf.Tensor 'unknown_102:0' shape=<unknown> dtype=resource>, <tf.Tensor 'unknown_103:0' shape=<unknown> dtype=resource>, <tf.Tensor 'unknown_104:0' shape=<unknown> dtype=resource>, <tf.Tensor 'unknown_105:0' shape=<unknown> dtype=resource>, <tf.Tensor 'unknown_106:0' shape=<unknown> dtype=resource>, <tf.Tensor 'unknown_107:0' shape=<unknown> dtype=resource>, <tf.Tensor 'unknown_108:0' shape=<unknown> dtype=resource>, <tf.Tensor 'unknown_109:0' shape=<unknown> dtype=resource>, <tf.Tensor 'unknown_110:0' shape=<unknown> dtype=resource>, <tf.Tensor 'unknown_111:0' shape=<unknown> dtype=resource>, <tf.Tensor 'unknown_112:0' shape=<unknown> dtype=resource>, <tf.Tensor 'unknown_113:0' shape=<unknown> dtype=resource>, <tf.Tensor 'unknown_114:0' shape=<unknown> dtype=resource>, <tf.Tensor 'unknown_115:0' shape=<unknown> dtype=resource>, <tf.Tensor 'unknown_116:0' shape=<unknown> dtype=resource>, <tf.Tensor 'unknown_117:0' shape=<unknown> dtype=resource>, <tf.Tensor 'unknown_118:0' shape=<unknown> dtype=resource>, <tf.Tensor 'unknown_119:0' shape=<unknown> dtype=resource>, <tf.Tensor 'unknown_120:0' shape=<unknown> dtype=resource>, <tf.Tensor 'unknown_121:0' shape=<unknown> dtype=resource>, <tf.Tensor 'unknown_122:0' shape=<unknown> dtype=resource>, <tf.Tensor 'unknown_123:0' shape=<unknown> dtype=resource>, <tf.Tensor 'unknown_124:0' shape=<unknown> dtype=resource>, <tf.Tensor 'unknown_125:0' shape=<unknown> dtype=resource>, <tf.Tensor 'unknown_126:0' shape=<unknown> dtype=resource>, <tf.Tensor 'unknown_127:0' shape=<unknown> dtype=resource>, <tf.Tensor 'unknown_128:0' shape=<unknown> dtype=resource>, <tf.Tensor 'unknown_129:0' shape=<unknown> dtype=resource>, <tf.Tensor 'unknown_130:0' shape=<unknown> dtype=resource>, <tf.Tensor 'unknown_131:0' shape=<unknown> dtype=resource>, <tf.Tensor 'unknown_132:0' shape=<unknown> dtype=resource>, <tf.Tensor 'unknown_133:0' shape=<unknown> dtype=resource>, <tf.Tensor 'unknown_134:0' shape=<unknown> dtype=resource>, <tf.Tensor 'unknown_135:0' shape=<unknown> dtype=resource>, <tf.Tensor 'unknown_136:0' shape=<unknown> dtype=resource>, <tf.Tensor 'unknown_137:0' shape=<unknown> dtype=resource>, <tf.Tensor 'unknown_138:0' shape=<unknown> dtype=resource>, <tf.Tensor 'unknown_139:0' shape=<unknown> dtype=resource>, <tf.Tensor 'unknown_140:0' shape=<unknown> dtype=resource>, <tf.Tensor 'unknown_141:0' shape=<unknown> dtype=resource>, <tf.Tensor 'unknown_142:0' shape=<unknown> dtype=resource>, <tf.Tensor 'unknown_143:0' shape=<unknown> dtype=resource>, <tf.Tensor 'unknown_144:0' shape=<unknown> dtype=resource>, <tf.Tensor 'unknown_145:0' shape=<unknown> dtype=resource>, <tf.Tensor 'unknown_146:0' shape=<unknown> dtype=resource>, <tf.Tensor 'unknown_147:0' shape=<unknown> dtype=resource>, <tf.Tensor 'unknown_148:0' shape=<unknown> dtype=resource>, <tf.Tensor 'unknown_149:0' shape=<unknown> dtype=resource>, <tf.Tensor 'unknown_150:0' shape=<unknown> dtype=resource>, <tf.Tensor 'unknown_151:0' shape=<unknown> dtype=resource>, <tf.Tensor 'unknown_152:0' shape=<unknown> dtype=resource>, <tf.Tensor 'unknown_153:0' shape=<unknown> dtype=resource>, <tf.Tensor 'unknown_154:0' shape=<unknown> dtype=resource>, <tf.Tensor 'unknown_155:0' shape=<unknown> dtype=resource>, <tf.Tensor 'unknown_156:0' shape=<unknown> dtype=resource>, <tf.Tensor 'unknown_157:0' shape=<unknown> dtype=resource>, <tf.Tensor 'unknown_158:0' shape=<unknown> dtype=resource>, <tf.Tensor 'unknown_159:0' shape=<unknown> dtype=resource>, <tf.Tensor 'unknown_160:0' shape=<unknown> dtype=resource>, <tf.Tensor 'unknown_161:0' shape=<unknown> dtype=resource>, <tf.Tensor 'unknown_162:0' shape=<unknown> dtype=resource>, <tf.Tensor 'unknown_163:0' shape=<unknown> dtype=resource>, <tf.Tensor 'unknown_164:0' shape=<unknown> dtype=resource>, <tf.Tensor 'unknown_165:0' shape=<unknown> dtype=resource>, <tf.Tensor 'unknown_166:0' shape=<unknown> dtype=resource>, <tf.Tensor 'unknown_167:0' shape=<unknown> dtype=resource>, <tf.Tensor 'unknown_168:0' shape=<unknown> dtype=resource>, <tf.Tensor 'unknown_169:0' shape=<unknown> dtype=resource>, <tf.Tensor 'unknown_170:0' shape=<unknown> dtype=resource>, <tf.Tensor 'unknown_171:0' shape=<unknown> dtype=resource>, <tf.Tensor 'unknown_172:0' shape=<unknown> dtype=resource>, <tf.Tensor 'unknown_173:0' shape=<unknown> dtype=resource>, <tf.Tensor 'unknown_174:0' shape=<unknown> dtype=resource>, <tf.Tensor 'unknown_175:0' shape=<unknown> dtype=resource>, <tf.Tensor 'unknown_176:0' shape=<unknown> dtype=resource>, <tf.Tensor 'unknown_177:0' shape=<unknown> dtype=resource>, <tf.Tensor 'unknown_178:0' shape=<unknown> dtype=resource>, <tf.Tensor 'unknown_179:0' shape=<unknown> dtype=resource>, <tf.Tensor 'unknown_180:0' shape=<unknown> dtype=resource>, <tf.Tensor 'unknown_181:0' shape=<unknown> dtype=resource>, <tf.Tensor 'unknown_182:0' shape=<unknown> dtype=resource>, <tf.Tensor 'unknown_183:0' shape=<unknown> dtype=resource>, <tf.Tensor 'unknown_184:0' shape=<unknown> dtype=resource>, <tf.Tensor 'unknown_185:0' shape=<unknown> dtype=resource>, <tf.Tensor 'unknown_186:0' shape=<unknown> dtype=resource>, <tf.Tensor 'unknown_187:0' shape=<unknown> dtype=resource>, <tf.Tensor 'unknown_188:0' shape=<unknown> dtype=resource>, <tf.Tensor 'unknown_189:0' shape=<unknown> dtype=resource>, <tf.Tensor 'unknown_190:0' shape=<unknown> dtype=resource>, <tf.Tensor 'unknown_191:0' shape=<unknown> dtype=resource>, <tf.Tensor 'unknown_192:0' shape=<unknown> dtype=resource>, <tf.Tensor 'unknown_193:0' shape=<unknown> dtype=resource>, <tf.Tensor 'unknown_194:0' shape=<unknown> dtype=resource>, <tf.Tensor 'unknown_195:0' shape=<unknown> dtype=resource>, <tf.Tensor 'unknown_196:0' shape=<unknown> dtype=resource>, <tf.Tensor 'unknown_197:0' shape=<unknown> dtype=resource>, <tf.Tensor 'unknown_198:0' shape=<unknown> dtype=resource>, <tf.Tensor 'unknown_199:0' shape=<unknown> dtype=resource>, <tf.Tensor 'unknown_200:0' shape=<unknown> dtype=resource>, <tf.Tensor 'unknown_201:0' shape=<unknown> dtype=resource>, <tf.Tensor 'unknown_202:0' shape=<unknown> dtype=resource>, <tf.Tensor 'unknown_203:0' shape=<unknown> dtype=resource>, <tf.Tensor 'unknown_204:0' shape=<unknown> dtype=resource>, <tf.Tensor 'unknown_205:0' shape=<unknown> dtype=resource>, <tf.Tensor 'unknown_206:0' shape=<unknown> dtype=resource>, <tf.Tensor 'unknown_207:0' shape=<unknown> dtype=resource>, <tf.Tensor 'unknown_208:0' shape=<unknown> dtype=resource>, <tf.Tensor 'unknown_209:0' shape=<unknown> dtype=resource>, <tf.Tensor 'unknown_210:0' shape=<unknown> dtype=resource>, <tf.Tensor 'unknown_211:0' shape=<unknown> dtype=resource>, <tf.Tensor 'unknown_212:0' shape=<unknown> dtype=resource>, <tf.Tensor 'unknown_213:0' shape=<unknown> dtype=resource>, <tf.Tensor 'unknown_214:0' shape=<unknown> dtype=resource>, <tf.Tensor 'unknown_215:0' shape=<unknown> dtype=resource>, <tf.Tensor 'unknown_216:0' shape=<unknown> dtype=resource>, <tf.Tensor 'unknown_217:0' shape=<unknown> dtype=resource>, <tf.Tensor 'unknown_218:0' shape=<unknown> dtype=resource>, <tf.Tensor 'unknown_219:0' shape=<unknown> dtype=resource>, <tf.Tensor 'unknown_220:0' shape=<unknown> dtype=resource>, <tf.Tensor 'unknown_221:0' shape=<unknown> dtype=resource>, <tf.Tensor 'unknown_222:0' shape=<unknown> dtype=resource>, <tf.Tensor 'unknown_223:0' shape=<unknown> dtype=resource>, <tf.Tensor 'unknown_224:0' shape=<unknown> dtype=resource>, <tf.Tensor 'unknown_225:0' shape=<unknown> dtype=resource>, <tf.Tensor 'unknown_226:0' shape=<unknown> dtype=resource>, <tf.Tensor 'unknown_227:0' shape=<unknown> dtype=resource>, <tf.Tensor 'unknown_228:0' shape=<unknown> dtype=resource>, <tf.Tensor 'unknown_229:0' shape=<unknown> dtype=resource>, <tf.Tensor 'unknown_230:0' shape=<unknown> dtype=resource>, <tf.Tensor 'unknown_231:0' shape=<unknown> dtype=resource>, <tf.Tensor 'unknown_232:0' shape=<unknown> dtype=resource>, <tf.Tensor 'unknown_233:0' shape=<unknown> dtype=resource>, <tf.Tensor 'unknown_234:0' shape=<unknown> dtype=resource>, <tf.Tensor 'unknown_235:0' shape=<unknown> dtype=resource>, <tf.Tensor 'unknown_236:0' shape=<unknown> dtype=resource>, <tf.Tensor 'unknown_237:0' shape=<unknown> dtype=resource>, <tf.Tensor 'unknown_238:0' shape=<unknown> dtype=resource>, <tf.Tensor 'unknown_239:0' shape=<unknown> dtype=resource>, <tf.Tensor 'unknown_240:0' shape=<unknown> dtype=resource>, <tf.Tensor 'unknown_241:0' shape=<unknown> dtype=resource>, <tf.Tensor 'unknown_242:0' shape=<unknown> dtype=resource>, <tf.Tensor 'unknown_243:0' shape=<unknown> dtype=resource>, <tf.Tensor 'unknown_244:0' shape=<unknown> dtype=resource>, <tf.Tensor 'unknown_245:0' shape=<unknown> dtype=resource>, <tf.Tensor 'unknown_246:0' shape=<unknown> dtype=resource>, <tf.Tensor 'unknown_247:0' shape=<unknown> dtype=resource>, <tf.Tensor 'unknown_248:0' shape=<unknown> dtype=resource>, <tf.Tensor 'unknown_249:0' shape=<unknown> dtype=resource>, <tf.Tensor 'unknown_250:0' shape=<unknown> dtype=resource>, <tf.Tensor 'unknown_251:0' shape=<unknown> dtype=resource>, <tf.Tensor 'unknown_252:0' shape=<unknown> dtype=resource>, <tf.Tensor 'unknown_253:0' shape=<unknown> dtype=resource>, <tf.Tensor 'unknown_254:0' shape=<unknown> dtype=resource>, <tf.Tensor 'unknown_255:0' shape=<unknown> dtype=resource>, <tf.Tensor 'unknown_256:0' shape=<unknown> dtype=resource>, <tf.Tensor 'unknown_257:0' shape=<unknown> dtype=resource>, <tf.Tensor 'unknown_258:0' shape=<unknown> dtype=resource>, <tf.Tensor 'unknown_259:0' shape=<unknown> dtype=resource>, <tf.Tensor 'unknown_260:0' shape=<unknown> dtype=resource>, <tf.Tensor 'unknown_261:0' shape=<unknown> dtype=resource>, <tf.Tensor 'unknown_262:0' shape=<unknown> dtype=resource>, <tf.Tensor 'unknown_263:0' shape=<unknown> dtype=resource>, <tf.Tensor 'unknown_264:0' shape=<unknown> dtype=resource>, <tf.Tensor 'unknown_265:0' shape=<unknown> dtype=resource>, <tf.Tensor 'unknown_266:0' shape=<unknown> dtype=resource>, <tf.Tensor 'unknown_267:0' shape=<unknown> dtype=resource>, <tf.Tensor 'unknown_268:0' shape=<unknown> dtype=resource>, <tf.Tensor 'unknown_269:0' shape=<unknown> dtype=resource>, <tf.Tensor 'unknown_270:0' shape=<unknown> dtype=resource>, <tf.Tensor 'unknown_271:0' shape=<unknown> dtype=resource>, <tf.Tensor 'unknown_272:0' shape=<unknown> dtype=resource>, <tf.Tensor 'unknown_273:0' shape=<unknown> dtype=resource>, <tf.Tensor 'unknown_274:0' shape=<unknown> dtype=resource>, <tf.Tensor 'unknown_275:0' shape=<unknown> dtype=resource>, <tf.Tensor 'unknown_276:0' shape=<unknown> dtype=resource>, <tf.Tensor 'unknown_277:0' shape=<unknown> dtype=resource>, <tf.Tensor 'unknown_278:0' shape=<unknown> dtype=resource>, <tf.Tensor 'unknown_279:0' shape=<unknown> dtype=resource>, <tf.Tensor 'unknown_280:0' shape=<unknown> dtype=resource>, <tf.Tensor 'unknown_281:0' shape=<unknown> dtype=resource>, <tf.Tensor 'unknown_282:0' shape=<unknown> dtype=resource>, <tf.Tensor 'unknown_283:0' shape=<unknown> dtype=resource>, <tf.Tensor 'unknown_284:0' shape=<unknown> dtype=resource>, <tf.Tensor 'unknown_285:0' shape=<unknown> dtype=resource>, <tf.Tensor 'unknown_286:0' shape=<unknown> dtype=resource>, <tf.Tensor 'unknown_287:0' shape=<unknown> dtype=resource>, <tf.Tensor 'unknown_288:0' shape=<unknown> dtype=resource>, <tf.Tensor 'unknown_289:0' shape=<unknown> dtype=resource>, <tf.Tensor 'unknown_290:0' shape=<unknown> dtype=resource>, <tf.Tensor 'unknown_291:0' shape=<unknown> dtype=resource>, <tf.Tensor 'unknown_292:0' shape=<unknown> dtype=resource>, <tf.Tensor 'unknown_293:0' shape=<unknown> dtype=resource>, <tf.Tensor 'unknown_294:0' shape=<unknown> dtype=resource>, <tf.Tensor 'unknown_295:0' shape=<unknown> dtype=resource>, <tf.Tensor 'unknown_296:0' shape=<unknown> dtype=resource>, <tf.Tensor 'unknown_297:0' shape=<unknown> dtype=resource>, <tf.Tensor 'unknown_298:0' shape=<unknown> dtype=resource>, <tf.Tensor 'unknown_299:0' shape=<unknown> dtype=resource>, <tf.Tensor 'unknown_300:0' shape=<unknown> dtype=resource>, <tf.Tensor 'unknown_301:0' shape=<unknown> dtype=resource>, <tf.Tensor 'unknown_302:0' shape=<unknown> dtype=resource>, <tf.Tensor 'unknown_303:0' shape=<unknown> dtype=resource>, <tf.Tensor 'unknown_304:0' shape=<unknown> dtype=resource>, <tf.Tensor 'unknown_305:0' shape=<unknown> dtype=resource>, <tf.Tensor 'unknown_306:0' shape=<unknown> dtype=resource>, <tf.Tensor 'unknown_307:0' shape=<unknown> dtype=resource>, <tf.Tensor 'unknown_308:0' shape=<unknown> dtype=resource>, <tf.Tensor 'unknown_309:0' shape=<unknown> dtype=resource>, <tf.Tensor 'unknown_310:0' shape=<unknown> dtype=resource>, <tf.Tensor 'unknown_311:0' shape=<unknown> dtype=resource>, <tf.Tensor 'unknown_312:0' shape=<unknown> dtype=resource>, <tf.Tensor 'unknown_313:0' shape=<unknown> dtype=resource>, <tf.Tensor 'unknown_314:0' shape=<unknown> dtype=resource>, <tf.Tensor 'unknown_315:0' shape=<unknown> dtype=resource>, <tf.Tensor 'unknown_316:0' shape=<unknown> dtype=resource>, <tf.Tensor 'unknown_317:0' shape=<unknown> dtype=resource>, <tf.Tensor 'unknown_318:0' shape=<unknown> dtype=resource>, <tf.Tensor 'unknown_319:0' shape=<unknown> dtype=resource>, <tf.Tensor 'unknown_320:0' shape=<unknown> dtype=resource>, <tf.Tensor 'unknown_321:0' shape=<unknown> dtype=resource>, <tf.Tensor 'unknown_322:0' shape=<unknown> dtype=resource>, <tf.Tensor 'unknown_323:0' shape=<unknown> dtype=resource>, <tf.Tensor 'unknown_324:0' shape=<unknown> dtype=resource>, <tf.Tensor 'unknown_325:0' shape=<unknown> dtype=resource>, <tf.Tensor 'unknown_326:0' shape=<unknown> dtype=resource>, <tf.Tensor 'unknown_327:0' shape=<unknown> dtype=resource>, <tf.Tensor 'unknown_328:0' shape=<unknown> dtype=resource>, <tf.Tensor 'unknown_329:0' shape=<unknown> dtype=resource>, <tf.Tensor 'unknown_330:0' shape=<unknown> dtype=resource>, <tf.Tensor 'unknown_331:0' shape=<unknown> dtype=resource>, <tf.Tensor 'unknown_332:0' shape=<unknown> dtype=resource>, <tf.Tensor 'unknown_333:0' shape=<unknown> dtype=resource>, <tf.Tensor 'unknown_334:0' shape=<unknown> dtype=resource>, <tf.Tensor 'unknown_335:0' shape=<unknown> dtype=resource>, <tf.Tensor 'unknown_336:0' shape=<unknown> dtype=resource>, <tf.Tensor 'unknown_337:0' shape=<unknown> dtype=resource>, <tf.Tensor 'unknown_338:0' shape=<unknown> dtype=resource>, <tf.Tensor 'unknown_339:0' shape=<unknown> dtype=resource>, <tf.Tensor 'unknown_340:0' shape=<unknown> dtype=resource>, <tf.Tensor 'unknown_341:0' shape=<unknown> dtype=resource>, <tf.Tensor 'unknown_342:0' shape=<unknown> dtype=resource>, <tf.Tensor 'unknown_343:0' shape=<unknown> dtype=resource>, <tf.Tensor 'unknown_344:0' shape=<unknown> dtype=resource>, <tf.Tensor 'unknown_345:0' shape=<unknown> dtype=resource>, <tf.Tensor 'unknown_346:0' shape=<unknown> dtype=resource>, <tf.Tensor 'unknown_347:0' shape=<unknown> dtype=resource>, <tf.Tensor 'unknown_348:0' shape=<unknown> dtype=resource>, <tf.Tensor 'unknown_349:0' shape=<unknown> dtype=resource>, <tf.Tensor 'unknown_350:0' shape=<unknown> dtype=resource>, <tf.Tensor 'unknown_351:0' shape=<unknown> dtype=resource>, <tf.Tensor 'unknown_352:0' shape=<unknown> dtype=resource>, <tf.Tensor 'unknown_353:0' shape=<unknown> dtype=resource>, <tf.Tensor 'unknown_354:0' shape=<unknown> dtype=resource>, <tf.Tensor 'unknown_355:0' shape=<unknown> dtype=resource>, <tf.Tensor 'unknown_356:0' shape=<unknown> dtype=resource>, <tf.Tensor 'unknown_357:0' shape=<unknown> dtype=resource>, <tf.Tensor 'unknown_358:0' shape=<unknown> dtype=resource>, <tf.Tensor 'unknown_359:0' shape=<unknown> dtype=resource>, <tf.Tensor 'unknown_360:0' shape=<unknown> dtype=resource>, <tf.Tensor 'unknown_361:0' shape=<unknown> dtype=resource>, <tf.Tensor 'unknown_362:0' shape=<unknown> dtype=resource>, <tf.Tensor 'unknown_363:0' shape=<unknown> dtype=resource>, <tf.Tensor 'unknown_364:0' shape=<unknown> dtype=resource>, <tf.Tensor 'unknown_365:0' shape=<unknown> dtype=resource>, <tf.Tensor 'unknown_366:0' shape=<unknown> dtype=resource>, <tf.Tensor 'unknown_367:0' shape=<unknown> dtype=resource>, <tf.Tensor 'unknown_368:0' shape=<unknown> dtype=resource>, <tf.Tensor 'unknown_369:0' shape=<unknown> dtype=resource>, <tf.Tensor 'unknown_370:0' shape=<unknown> dtype=resource>, <tf.Tensor 'unknown_371:0' shape=<unknown> dtype=resource>, <tf.Tensor 'unknown_372:0' shape=<unknown> dtype=resource>, <tf.Tensor 'unknown_373:0' shape=<unknown> dtype=resource>, <tf.Tensor 'unknown_374:0' shape=<unknown> dtype=resource>, <tf.Tensor 'unknown_375:0' shape=<unknown> dtype=resource>, <tf.Tensor 'unknown_376:0' shape=<unknown> dtype=resource>, <tf.Tensor 'unknown_377:0' shape=<unknown> dtype=resource>, <tf.Tensor 'unknown_378:0' shape=<unknown> dtype=resource>, <tf.Tensor 'unknown_379:0' shape=<unknown> dtype=resource>, <tf.Tensor 'unknown_380:0' shape=<unknown> dtype=resource>, <tf.Tensor 'unknown_381:0' shape=<unknown> dtype=resource>, <tf.Tensor 'unknown_382:0' shape=<unknown> dtype=resource>, <tf.Tensor 'unknown_383:0' shape=<unknown> dtype=resource>, <tf.Tensor 'unknown_384:0' shape=<unknown> dtype=resource>, <tf.Tensor 'unknown_385:0' shape=<unknown> dtype=resource>, <tf.Tensor 'unknown_386:0' shape=<unknown> dtype=resource>, <tf.Tensor 'unknown_387:0' shape=<unknown> dtype=resource>, <tf.Tensor 'unknown_388:0' shape=<unknown> dtype=resource>, <tf.Tensor 'unknown_389:0' shape=<unknown> dtype=resource>, <tf.Tensor 'unknown_390:0' shape=<unknown> dtype=resource>, <tf.Tensor 'unknown_391:0' shape=<unknown> dtype=resource>, <tf.Tensor 'unknown_392:0' shape=<unknown> dtype=resource>, <tf.Tensor 'unknown_393:0' shape=<unknown> dtype=resource>, <tf.Tensor 'unknown_394:0' shape=<unknown> dtype=resource>, <tf.Tensor 'unknown_395:0' shape=<unknown> dtype=resource>, <tf.Tensor 'unknown_396:0' shape=<unknown> dtype=resource>, <tf.Tensor 'unknown_397:0' shape=<unknown> dtype=resource>, <tf.Tensor 'unknown_398:0' shape=<unknown> dtype=resource>, <tf.Tensor 'unknown_399:0' shape=<unknown> dtype=resource>, <tf.Tensor 'unknown_400:0' shape=<unknown> dtype=resource>, <tf.Tensor 'unknown_401:0' shape=<unknown> dtype=resource>, <tf.Tensor 'unknown_402:0' shape=<unknown> dtype=resource>, <tf.Tensor 'unknown_403:0' shape=<unknown> dtype=resource>, <tf.Tensor 'unknown_404:0' shape=<unknown> dtype=resource>, <tf.Tensor 'unknown_405:0' shape=<unknown> dtype=resource>, <tf.Tensor 'unknown_406:0' shape=<unknown> dtype=resource>, <tf.Tensor 'unknown_407:0' shape=<unknown> dtype=resource>, <tf.Tensor 'unknown_408:0' shape=<unknown> dtype=resource>, <tf.Tensor 'unknown_409:0' shape=<unknown> dtype=resource>, <tf.Tensor 'unknown_410:0' shape=<unknown> dtype=resource>, <tf.Tensor 'unknown_411:0' shape=<unknown> dtype=resource>, <tf.Tensor 'unknown_412:0' shape=<unknown> dtype=resource>, <tf.Tensor 'unknown_413:0' shape=<unknown> dtype=resource>, <tf.Tensor 'unknown_414:0' shape=<unknown> dtype=resource>, <tf.Tensor 'unknown_415:0' shape=<unknown> dtype=resource>, <tf.Tensor 'unknown_416:0' shape=<unknown> dtype=resource>, <tf.Tensor 'unknown_417:0' shape=<unknown> dtype=resource>, <tf.Tensor 'unknown_418:0' shape=<unknown> dtype=resource>, <tf.Tensor 'unknown_419:0' shape=<unknown> dtype=resource>, <tf.Tensor 'unknown_420:0' shape=<unknown> dtype=resource>, <tf.Tensor 'unknown_421:0' shape=<unknown> dtype=resource>, <tf.Tensor 'unknown_422:0' shape=<unknown> dtype=resource>, <tf.Tensor 'unknown_423:0' shape=<unknown> dtype=resource>, <tf.Tensor 'unknown_424:0' shape=<unknown> dtype=resource>, <tf.Tensor 'unknown_425:0' shape=<unknown> dtype=resource>, <tf.Tensor 'unknown_426:0' shape=<unknown> dtype=resource>, <tf.Tensor 'unknown_427:0' shape=<unknown> dtype=resource>, <tf.Tensor 'unknown_428:0' shape=<unknown> dtype=resource>, <tf.Tensor 'unknown_429:0' shape=<unknown> dtype=resource>, <tf.Tensor 'unknown_430:0' shape=<unknown> dtype=resource>, <tf.Tensor 'unknown_431:0' shape=<unknown> dtype=resource>, <tf.Tensor 'unknown_432:0' shape=<unknown> dtype=resource>, <tf.Tensor 'unknown_433:0' shape=<unknown> dtype=resource>, <tf.Tensor 'unknown_434:0' shape=<unknown> dtype=resource>, <tf.Tensor 'unknown_435:0' shape=<unknown> dtype=resource>, <tf.Tensor 'unknown_436:0' shape=<unknown> dtype=resource>, <tf.Tensor 'unknown_437:0' shape=<unknown> dtype=resource>, <tf.Tensor 'unknown_438:0' shape=<unknown> dtype=resource>, <tf.Tensor 'unknown_439:0' shape=<unknown> dtype=resource>, <tf.Tensor 'unknown_440:0' shape=<unknown> dtype=resource>, <tf.Tensor 'unknown_441:0' shape=<unknown> dtype=resource>, <tf.Tensor 'unknown_442:0' shape=<unknown> dtype=resource>, <tf.Tensor 'unknown_443:0' shape=<unknown> dtype=resource>, <tf.Tensor 'unknown_444:0' shape=<unknown> dtype=resource>, <tf.Tensor 'unknown_445:0' shape=<unknown> dtype=resource>, <tf.Tensor 'unknown_446:0' shape=<unknown> dtype=resource>, <tf.Tensor 'unknown_447:0' shape=<unknown> dtype=resource>, <tf.Tensor 'unknown_448:0' shape=<unknown> dtype=resource>, <tf.Tensor 'unknown_449:0' shape=<unknown> dtype=resource>, <tf.Tensor 'unknown_450:0' shape=<unknown> dtype=resource>, <tf.Tensor 'unknown_451:0' shape=<unknown> dtype=resource>, <tf.Tensor 'unknown_452:0' shape=<unknown> dtype=resource>, <tf.Tensor 'unknown_453:0' shape=<unknown> dtype=resource>, <tf.Tensor 'unknown_454:0' shape=<unknown> dtype=resource>, <tf.Tensor 'unknown_455:0' shape=<unknown> dtype=resource>, <tf.Tensor 'unknown_456:0' shape=<unknown> dtype=resource>, <tf.Tensor 'unknown_457:0' shape=<unknown> dtype=resource>, <tf.Tensor 'unknown_458:0' shape=<unknown> dtype=resource>, <tf.Tensor 'unknown_459:0' shape=<unknown> dtype=resource>, <tf.Tensor 'unknown_460:0' shape=<unknown> dtype=resource>, <tf.Tensor 'unknown_461:0' shape=<unknown> dtype=resource>, <tf.Tensor 'unknown_462:0' shape=<unknown> dtype=resource>, <tf.Tensor 'unknown_463:0' shape=<unknown> dtype=resource>, <tf.Tensor 'unknown_464:0' shape=<unknown> dtype=resource>, <tf.Tensor 'unknown_465:0' shape=<unknown> dtype=resource>, <tf.Tensor 'unknown_466:0' shape=<unknown> dtype=resource>, <tf.Tensor 'unknown_467:0' shape=<unknown> dtype=resource>, <tf.Tensor 'unknown_468:0' shape=<unknown> dtype=resource>, <tf.Tensor 'unknown_469:0' shape=<unknown> dtype=resource>, <tf.Tensor 'unknown_470:0' shape=<unknown> dtype=resource>, <tf.Tensor 'unknown_471:0' shape=<unknown> dtype=resource>, <tf.Tensor 'unknown_472:0' shape=<unknown> dtype=resource>, <tf.Tensor 'unknown_473:0' shape=<unknown> dtype=resource>, <tf.Tensor 'unknown_474:0' shape=<unknown> dtype=resource>, <tf.Tensor 'unknown_475:0' shape=<unknown> dtype=resource>, <tf.Tensor 'unknown_476:0' shape=<unknown> dtype=resource>, <tf.Tensor 'unknown_477:0' shape=<unknown> dtype=resource>, <tf.Tensor 'unknown_478:0' shape=<unknown> dtype=resource>, <tf.Tensor 'unknown_479:0' shape=<unknown> dtype=resource>, <tf.Tensor 'unknown_480:0' shape=<unknown> dtype=resource>, <tf.Tensor 'unknown_481:0' shape=<unknown> dtype=resource>, <tf.Tensor 'unknown_482:0' shape=<unknown> dtype=resource>, <tf.Tensor 'unknown_483:0' shape=<unknown> dtype=resource>, <tf.Tensor 'unknown_484:0' shape=<unknown> dtype=resource>, <tf.Tensor 'unknown_485:0' shape=<unknown> dtype=resource>, <tf.Tensor 'unknown_486:0' shape=<unknown> dtype=resource>, <tf.Tensor 'unknown_487:0' shape=<unknown> dtype=resource>, <tf.Tensor 'unknown_488:0' shape=<unknown> dtype=resource>, <tf.Tensor 'unknown_489:0' shape=<unknown> dtype=resource>, <tf.Tensor 'unknown_490:0' shape=<unknown> dtype=resource>, <tf.Tensor 'unknown_491:0' shape=<unknown> dtype=resource>, <tf.Tensor 'unknown_492:0' shape=<unknown> dtype=resource>, <tf.Tensor 'unknown_493:0' shape=<unknown> dtype=resource>, <tf.Tensor 'unknown_494:0' shape=<unknown> dtype=resource>, <tf.Tensor 'unknown_495:0' shape=<unknown> dtype=resource>, <tf.Tensor 'unknown_496:0' shape=<unknown> dtype=resource>, <tf.Tensor 'unknown_497:0' shape=<unknown> dtype=resource>, <tf.Tensor 'unknown_498:0' shape=<unknown> dtype=resource>, <tf.Tensor 'unknown_499:0' shape=<unknown> dtype=resource>, <tf.Tensor 'unknown_500:0' shape=<unknown> dtype=resource>, <tf.Tensor 'unknown_501:0' shape=<unknown> dtype=resource>, <tf.Tensor 'unknown_502:0' shape=<unknown> dtype=resource>, <tf.Tensor 'unknown_503:0' shape=<unknown> dtype=resource>, <tf.Tensor 'unknown_504:0' shape=<unknown> dtype=resource>, <tf.Tensor 'unknown_505:0' shape=<unknown> dtype=resource>, <tf.Tensor 'unknown_506:0' shape=<unknown> dtype=resource>, <tf.Tensor 'unknown_507:0' shape=<unknown> dtype=resource>, <tf.Tensor 'unknown_508:0' shape=<unknown> dtype=resource>, <tf.Tensor 'unknown_509:0' shape=<unknown> dtype=resource>, <tf.Tensor 'unknown_510:0' shape=<unknown> dtype=resource>, <tf.Tensor 'unknown_511:0' shape=<unknown> dtype=resource>, <tf.Tensor 'unknown_512:0' shape=<unknown> dtype=resource>, <tf.Tensor 'unknown_513:0' shape=<unknown> dtype=resource>, <tf.Tensor 'unknown_514:0' shape=<unknown> dtype=resource>, <tf.Tensor 'unknown_515:0' shape=<unknown> dtype=resource>, <tf.Tensor 'unknown_516:0' shape=<unknown> dtype=resource>, <tf.Tensor 'unknown_517:0' shape=<unknown> dtype=resource>, <tf.Tensor 'unknown_518:0' shape=<unknown> dtype=resource>, <tf.Tensor 'unknown_519:0' shape=<unknown> dtype=resource>, <tf.Tensor 'unknown_520:0' shape=<unknown> dtype=resource>, <tf.Tensor 'unknown_521:0' shape=<unknown> dtype=resource>, <tf.Tensor 'unknown_522:0' shape=<unknown> dtype=resource>, <tf.Tensor 'unknown_523:0' shape=<unknown> dtype=resource>, <tf.Tensor 'unknown_524:0' shape=<unknown> dtype=resource>, <tf.Tensor 'unknown_525:0' shape=<unknown> dtype=resource>, <tf.Tensor 'unknown_526:0' shape=<unknown> dtype=resource>, <tf.Tensor 'unknown_527:0' shape=<unknown> dtype=resource>, <tf.Tensor 'unknown_528:0' shape=<unknown> dtype=resource>, <tf.Tensor 'unknown_529:0' shape=<unknown> dtype=resource>, <tf.Tensor 'unknown_530:0' shape=<unknown> dtype=resource>, <tf.Tensor 'unknown_531:0' shape=(2,) dtype=float32>, <tf.Tensor 'unknown_532:0' shape=(2,) dtype=float32>, <tf.Tensor 'unknown_533:0' shape=(2,) dtype=float32>, <tf.Tensor 'unknown_534:0' shape=(2,) dtype=float32>, <tf.Tensor 'unknown_535:0' shape=(2,) dtype=float32>, <tf.Tensor 'unknown_536:0' shape=(2,) dtype=float32>, <tf.Tensor 'unknown_537:0' shape=(2,) dtype=float32>, <tf.Tensor 'unknown_538:0' shape=(2,) dtype=float32>, <tf.Tensor 'unknown_539:0' shape=(2,) dtype=float32>, <tf.Tensor 'unknown_540:0' shape=(2,) dtype=float32>, <tf.Tensor 'unknown_541:0' shape=(2,) dtype=float32>, <tf.Tensor 'unknown_542:0' shape=(2,) dtype=float32>, <tf.Tensor 'unknown_543:0' shape=(2,) dtype=float32>, <tf.Tensor 'unknown_544:0' shape=(2,) dtype=float32>, <tf.Tensor 'unknown_545:0' shape=(2,) dtype=float32>, <tf.Tensor 'unknown_546:0' shape=<unknown> dtype=resource>, <tf.Tensor 'unknown_547:0' shape=<unknown> dtype=resource>, <tf.Tensor 'unknown_548:0' shape=<unknown> dtype=resource>, <tf.Tensor 'unknown_549:0' shape=<unknown> dtype=resource>, <tf.Tensor 'unknown_550:0' shape=<unknown> dtype=resource>, <tf.Tensor 'unknown_551:0' shape=<unknown> dtype=resource>, <tf.Tensor 'unknown_552:0' shape=<unknown> dtype=resource>, <tf.Tensor 'unknown_553:0' shape=<unknown> dtype=resource>, <tf.Tensor 'unknown_554:0' shape=<unknown> dtype=resource>, <tf.Tensor 'unknown_555:0' shape=<unknown> dtype=resource>, <tf.Tensor 'unknown_556:0' shape=<unknown> dtype=resource>, <tf.Tensor 'unknown_557:0' shape=<unknown> dtype=resource>, <tf.Tensor 'unknown_558:0' shape=<unknown> dtype=resource>, <tf.Tensor 'unknown_559:0' shape=<unknown> dtype=resource>, <tf.Tensor 'unknown_560:0' shape=<unknown> dtype=resource>, <tf.Tensor 'unknown_561:0' shape=<unknown> dtype=resource>, <tf.Tensor 'unknown_562:0' shape=<unknown> dtype=resource>, <tf.Tensor 'unknown_563:0' shape=<unknown> dtype=resource>, <tf.Tensor 'unknown_564:0' shape=<unknown> dtype=resource>, <tf.Tensor 'unknown_565:0' shape=<unknown> dtype=resource>, <tf.Tensor 'unknown_566:0' shape=<unknown> dtype=resource>, <tf.Tensor 'unknown_567:0' shape=<unknown> dtype=resource>, <tf.Tensor 'unknown_568:0' shape=<unknown> dtype=resource>, <tf.Tensor 'unknown_569:0' shape=<unknown> dtype=resource>, <tf.Tensor 'unknown_570:0' shape=<unknown> dtype=resource>, <tf.Tensor 'unknown_571:0' shape=<unknown> dtype=resource>, <tf.Tensor 'unknown_572:0' shape=<unknown> dtype=resource>, <tf.Tensor 'unknown_573:0' shape=<unknown> dtype=resource>, <tf.Tensor 'unknown_574:0' shape=<unknown> dtype=resource>, <tf.Tensor 'unknown_575:0' shape=<unknown> dtype=resource>, <tf.Tensor 'unknown_576:0' shape=<unknown> dtype=resource>, <tf.Tensor 'unknown_577:0' shape=<unknown> dtype=resource>, <tf.Tensor 'unknown_578:0' shape=<unknown> dtype=resource>, <tf.Tensor 'unknown_579:0' shape=<unknown> dtype=resource>, <tf.Tensor 'unknown_580:0' shape=<unknown> dtype=resource>, <tf.Tensor 'unknown_581:0' shape=<unknown> dtype=resource>, <tf.Tensor 'unknown_582:0' shape=<unknown> dtype=resource>, <tf.Tensor 'unknown_583:0' shape=<unknown> dtype=resource>, <tf.Tensor 'unknown_584:0' shape=<unknown> dtype=resource>, <tf.Tensor 'unknown_585:0' shape=<unknown> dtype=resource>, <tf.Tensor 'unknown_586:0' shape=<unknown> dtype=resource>, <tf.Tensor 'unknown_587:0' shape=<unknown> dtype=resource>, <tf.Tensor 'unknown_588:0' shape=<unknown> dtype=resource>, <tf.Tensor 'unknown_589:0' shape=<unknown> dtype=resource>, <tf.Tensor 'unknown_590:0' shape=<unknown> dtype=resource>, <tf.Tensor 'unknown_591:0' shape=<unknown> dtype=resource>, <tf.Tensor 'unknown_592:0' shape=<unknown> dtype=resource>, <tf.Tensor 'unknown_593:0' shape=<unknown> dtype=resource>, <tf.Tensor 'unknown_594:0' shape=<unknown> dtype=resource>, <tf.Tensor 'unknown_595:0' shape=<unknown> dtype=resource>, <tf.Tensor 'unknown_596:0' shape=<unknown> dtype=resource>, <tf.Tensor 'unknown_597:0' shape=<unknown> dtype=resource>, <tf.Tensor 'unknown_598:0' shape=<unknown> dtype=resource>, <tf.Tensor 'unknown_599:0' shape=<unknown> dtype=resource>, <tf.Tensor 'unknown_600:0' shape=<unknown> dtype=resource>, <tf.Tensor 'unknown_601:0' shape=<unknown> dtype=resource>, <tf.Tensor 'unknown_602:0' shape=<unknown> dtype=resource>, <tf.Tensor 'unknown_603:0' shape=<unknown> dtype=resource>, <tf.Tensor 'unknown_604:0' shape=<unknown> dtype=resource>, <tf.Tensor 'unknown_605:0' shape=<unknown> dtype=resource>, <tf.Tensor 'unknown_606:0' shape=<unknown> dtype=resource>, <tf.Tensor 'unknown_607:0' shape=<unknown> dtype=resource>, <tf.Tensor 'unknown_608:0' shape=<unknown> dtype=resource>, <tf.Tensor 'unknown_609:0' shape=<unknown> dtype=resource>, <tf.Tensor 'unknown_610:0' shape=<unknown> dtype=resource>, <tf.Tensor 'unknown_611:0' shape=<unknown> dtype=resource>, <tf.Tensor 'unknown_612:0' shape=<unknown> dtype=resource>, <tf.Tensor 'unknown_613:0' shape=<unknown> dtype=resource>, <tf.Tensor 'unknown_614:0' shape=<unknown> dtype=resource>, <tf.Tensor 'unknown_615:0' shape=<unknown> dtype=resource>, <tf.Tensor 'unknown_616:0' shape=<unknown> dtype=resource>, <tf.Tensor 'unknown_617:0' shape=<unknown> dtype=resource>, <tf.Tensor 'unknown_618:0' shape=<unknown> dtype=resource>, <tf.Tensor 'unknown_619:0' shape=<unknown> dtype=resource>, <tf.Tensor 'unknown_620:0' shape=<unknown> dtype=resource>, <tf.Tensor 'unknown_621:0' shape=<unknown> dtype=resource>, <tf.Tensor 'unknown_622:0' shape=<unknown> dtype=resource>, <tf.Tensor 'unknown_623:0' shape=<unknown> dtype=resource>, <tf.Tensor 'unknown_624:0' shape=<unknown> dtype=resource>, <tf.Tensor 'unknown_625:0' shape=<unknown> dtype=resource>, <tf.Tensor 'unknown_626:0' shape=<unknown> dtype=resource>, <tf.Tensor 'unknown_627:0' shape=<unknown> dtype=resource>, <tf.Tensor 'unknown_628:0' shape=<unknown> dtype=resource>, <tf.Tensor 'unknown_629:0' shape=<unknown> dtype=resource>, <tf.Tensor 'unknown_630:0' shape=<unknown> dtype=resource>, <tf.Tensor 'unknown_631:0' shape=<unknown> dtype=resource>, <tf.Tensor 'unknown_632:0' shape=<unknown> dtype=resource>, <tf.Tensor 'unknown_633:0' shape=<unknown> dtype=resource>, <tf.Tensor 'unknown_634:0' shape=<unknown> dtype=resource>, <tf.Tensor 'unknown_635:0' shape=<unknown> dtype=resource>, <tf.Tensor 'unknown_636:0' shape=<unknown> dtype=resource>, <tf.Tensor 'unknown_637:0' shape=<unknown> dtype=resource>, <tf.Tensor 'unknown_638:0' shape=<unknown> dtype=resource>, <tf.Tensor 'unknown_639:0' shape=<unknown> dtype=resource>, <tf.Tensor 'unknown_640:0' shape=<unknown> dtype=resource>, <tf.Tensor 'unknown_641:0' shape=<unknown> dtype=resource>, <tf.Tensor 'unknown_642:0' shape=<unknown> dtype=resource>, <tf.Tensor 'unknown_643:0' shape=<unknown> dtype=resource>, <tf.Tensor 'unknown_644:0' shape=<unknown> dtype=resource>, <tf.Tensor 'unknown_645:0' shape=<unknown> dtype=resource>, <tf.Tensor 'unknown_646:0' shape=<unknown> dtype=resource>, <tf.Tensor 'unknown_647:0' shape=<unknown> dtype=resource>, <tf.Tensor 'unknown_648:0' shape=<unknown> dtype=resource>, <tf.Tensor 'unknown_649:0' shape=<unknown> dtype=resource>, <tf.Tensor 'unknown_650:0' shape=<unknown> dtype=resource>, <tf.Tensor 'unknown_651:0' shape=<unknown> dtype=resource>, <tf.Tensor 'unknown_652:0' shape=<unknown> dtype=resource>, <tf.Tensor 'unknown_653:0' shape=<unknown> dtype=resource>, <tf.Tensor 'unknown_654:0' shape=<unknown> dtype=resource>, <tf.Tensor 'unknown_655:0' shape=<unknown> dtype=resource>, <tf.Tensor 'unknown_656:0' shape=<unknown> dtype=resource>, <tf.Tensor 'unknown_657:0' shape=<unknown> dtype=resource>, <tf.Tensor 'unknown_658:0' shape=<unknown> dtype=resource>, <tf.Tensor 'unknown_659:0' shape=<unknown> dtype=resource>, <tf.Tensor 'unknown_660:0' shape=<unknown> dtype=resource>, <tf.Tensor 'unknown_661:0' shape=<unknown> dtype=resource>, <tf.Tensor 'unknown_662:0' shape=<unknown> dtype=resource>, <tf.Tensor 'unknown_663:0' shape=<unknown> dtype=resource>, <tf.Tensor 'unknown_664:0' shape=<unknown> dtype=resource>, <tf.Tensor 'unknown_665:0' shape=<unknown> dtype=resource>, <tf.Tensor 'unknown_666:0' shape=<unknown> dtype=resource>, <tf.Tensor 'unknown_667:0' shape=<unknown> dtype=resource>, <tf.Tensor 'unknown_668:0' shape=<unknown> dtype=resource>, <tf.Tensor 'unknown_669:0' shape=<unknown> dtype=resource>, <tf.Tensor 'unknown_670:0' shape=<unknown> dtype=resource>, <tf.Tensor 'unknown_671:0' shape=<unknown> dtype=resource>, <tf.Tensor 'unknown_672:0' shape=<unknown> dtype=resource>, <tf.Tensor 'unknown_673:0' shape=<unknown> dtype=resource>, <tf.Tensor 'unknown_674:0' shape=<unknown> dtype=resource>, <tf.Tensor 'unknown_675:0' shape=<unknown> dtype=resource>, <tf.Tensor 'unknown_676:0' shape=<unknown> dtype=resource>, <tf.Tensor 'unknown_677:0' shape=<unknown> dtype=resource>, <tf.Tensor 'unknown_678:0' shape=<unknown> dtype=resource>, <tf.Tensor 'unknown_679:0' shape=<unknown> dtype=resource>, <tf.Tensor 'unknown_680:0' shape=<unknown> dtype=resource>, <tf.Tensor 'unknown_681:0' shape=<unknown> dtype=resource>, <tf.Tensor 'unknown_682:0' shape=<unknown> dtype=resource>, <tf.Tensor 'unknown_683:0' shape=<unknown> dtype=resource>, <tf.Tensor 'unknown_684:0' shape=<unknown> dtype=resource>, <tf.Tensor 'unknown_685:0' shape=<unknown> dtype=resource>, <tf.Tensor 'unknown_686:0' shape=<unknown> dtype=resource>, <tf.Tensor 'unknown_687:0' shape=<unknown> dtype=resource>, <tf.Tensor 'unknown_688:0' shape=<unknown> dtype=resource>, <tf.Tensor 'unknown_689:0' shape=<unknown> dtype=resource>]\n"
          ]
        }
      ],
      "source": [
        "print(detection_model.signatures['serving_default'].inputs)"
      ]
    },
    {
      "cell_type": "markdown",
      "metadata": {
        "id": "Q8u3BjpMJXZF"
      },
      "source": [
        "And returns several outputs:"
      ]
    },
    {
      "cell_type": "code",
      "execution_count": null,
      "metadata": {
        "colab": {
          "base_uri": "https://localhost:8080/"
        },
        "id": "oLSZpfaYwuSk",
        "outputId": "746c5fa5-0019-4cf5-d6df-12c6c1a3e2e9"
      },
      "outputs": [
        {
          "data": {
            "text/plain": [
              "{'detection_classes': tf.float32,\n",
              " 'detection_scores': tf.float32,\n",
              " 'detection_boxes': tf.float32,\n",
              " 'num_detections': tf.float32,\n",
              " 'raw_detection_boxes': tf.float32,\n",
              " 'detection_multiclass_scores': tf.float32,\n",
              " 'raw_detection_scores': tf.float32,\n",
              " 'detection_anchor_indices': tf.float32}"
            ]
          },
          "execution_count": 21,
          "metadata": {},
          "output_type": "execute_result"
        }
      ],
      "source": [
        "detection_model.signatures['serving_default'].output_dtypes"
      ]
    },
    {
      "cell_type": "code",
      "execution_count": null,
      "metadata": {
        "colab": {
          "base_uri": "https://localhost:8080/"
        },
        "id": "FZyKUJeuxvpT",
        "outputId": "71de0f6f-386c-41b1-d099-c06e1c8ed1c4"
      },
      "outputs": [
        {
          "data": {
            "text/plain": [
              "{'detection_classes': TensorShape([1, 100]),\n",
              " 'detection_scores': TensorShape([1, 100]),\n",
              " 'detection_boxes': TensorShape([1, 100, 4]),\n",
              " 'num_detections': TensorShape([1]),\n",
              " 'raw_detection_boxes': TensorShape([1, 49104, 4]),\n",
              " 'detection_multiclass_scores': TensorShape([1, 100, 90]),\n",
              " 'raw_detection_scores': TensorShape([1, 49104, 90]),\n",
              " 'detection_anchor_indices': TensorShape([1, 100])}"
            ]
          },
          "execution_count": 22,
          "metadata": {},
          "output_type": "execute_result"
        }
      ],
      "source": [
        "detection_model.signatures['serving_default'].output_shapes"
      ]
    },
    {
      "cell_type": "markdown",
      "metadata": {
        "id": "uJYqJBiXPDM4"
      },
      "source": [
        "detection_classes and detection_scores are needed to identify identified objects"
      ]
    },
    {
      "cell_type": "markdown",
      "metadata": {
        "id": "JP5qZ7sXJpwG"
      },
      "source": [
        "Add a wrapper function to call the model, and cleanup the outputs:"
      ]
    },
    {
      "cell_type": "code",
      "execution_count": null,
      "metadata": {
        "id": "l_z8NhQTUEea"
      },
      "outputs": [],
      "source": [
        "import six\n",
        "import collections\n",
        "\n",
        "def get_classes_name_and_scores(\n",
        "        boxes,\n",
        "        classes,\n",
        "        scores,\n",
        "        category_index,\n",
        "        model_name = model_name,\n",
        "        max_boxes_to_draw=20,\n",
        "        min_score_thresh=.5, # change the threshold per need\n",
        "        food_list = [52, 53, 55, 56, 57, 58, 59, 60, 61]\n",
        "        ): # returns bigger than 70% precision\n",
        "    display_str = collections.defaultdict(dict)\n",
        "    for i in range(boxes.shape[0]):\n",
        "        if scores[i] > min_score_thresh: #scores is None or\n",
        "            if classes[i] in six.viewkeys(category_index):\n",
        "                if classes[i] in food_list: # limit to food items:\n",
        "                  display_str[i]['name'] = category_index[classes[i]]['name']\n",
        "                  display_str[i]['score'] = '{}%'.format(int(100 * scores[i]))\n",
        "                  display_str[i]['model'] = model_name\n",
        "    # sort the nested dictionary so that it lists by the highest confidence scores\n",
        "    # images = list(result.keys())\n",
        "    # sorted(images, key=lambda x: (display_str[x]['score'], display_str[x]['date']))\n",
        "\n",
        "    return dict(display_str)"
      ]
    },
    {
      "cell_type": "code",
      "execution_count": null,
      "metadata": {
        "id": "ajmR_exWyN76"
      },
      "outputs": [],
      "source": [
        "def run_inference_for_single_image(model, image):\n",
        "  image = np.asarray(image)\n",
        "  # The input needs to be a tensor, convert it using `tf.convert_to_tensor`.\n",
        "  input_tensor = tf.convert_to_tensor(image)\n",
        "  # The model expects a batch of images, so add an axis with `tf.newaxis`.\n",
        "  input_tensor = input_tensor[tf.newaxis,...]\n",
        "\n",
        "  # Run inference\n",
        "  model_fn = model.signatures['serving_default']\n",
        "  output_dict = model_fn(input_tensor)\n",
        "\n",
        "  # All outputs are batches tensors.\n",
        "  # Convert to numpy arrays, and take index [0] to remove the batch dimension.\n",
        "  # We're only interested in the first num_detections.\n",
        "  num_detections = int(output_dict.pop('num_detections'))\n",
        "  output_dict = {key:value[0, :num_detections].numpy()\n",
        "                 for key,value in output_dict.items()}\n",
        "  output_dict['num_detections'] = num_detections\n",
        "\n",
        "  # detection_classes should be ints.\n",
        "  output_dict['detection_classes'] = output_dict['detection_classes'].astype(np.int64)\n",
        "\n",
        "  # Handle models with masks:\n",
        "  if 'detection_masks' in output_dict:\n",
        "    # Reframe the the bbox mask to the image size.\n",
        "    detection_masks_reframed = utils_ops.reframe_box_masks_to_image_masks(\n",
        "              output_dict['detection_masks'], output_dict['detection_boxes'],\n",
        "               image.shape[0], image.shape[1])\n",
        "    detection_masks_reframed = tf.cast(detection_masks_reframed > 0.5,\n",
        "                                       tf.uint8)\n",
        "    output_dict['detection_masks_reframed'] = detection_masks_reframed.numpy()\n",
        "\n",
        "  return output_dict"
      ]
    },
    {
      "cell_type": "markdown",
      "metadata": {
        "id": "z1wq0LVyMRR_"
      },
      "source": [
        "Run it on each test image and show the results:"
      ]
    },
    {
      "cell_type": "code",
      "execution_count": null,
      "metadata": {
        "id": "DWh_1zz6aqxs"
      },
      "outputs": [],
      "source": [
        "def show_inference(model, image_path):\n",
        "  # the array based representation of the image will be used later in order to prepare the\n",
        "  # result image with boxes and labels on it.\n",
        "  image_np = np.array(Image.open(image_path))\n",
        "  # Actual detection.\n",
        "  output_dict = run_inference_for_single_image(model, image_np)\n",
        "  # Visualization of the results of a detection.\n",
        "  vis_util.visualize_boxes_and_labels_on_image_array(\n",
        "      image_np,\n",
        "      output_dict['detection_boxes'],\n",
        "      output_dict['detection_classes'],\n",
        "      output_dict['detection_scores'],\n",
        "      category_index,\n",
        "      instance_masks=output_dict.get('detection_masks_reframed', None),\n",
        "      use_normalized_coordinates=True,\n",
        "      line_thickness=8)\n",
        "  print(get_classes_name_and_scores(\n",
        "      output_dict['detection_boxes'],\n",
        "      output_dict['detection_classes'],\n",
        "      output_dict['detection_scores'],\n",
        "      category_index))\n",
        "\n",
        "  display(Image.fromarray(image_np))"
      ]
    },
    {
      "cell_type": "code",
      "execution_count": null,
      "metadata": {
        "id": "zOy9YyZmUDLM"
      },
      "outputs": [],
      "source": [
        "# run an inference on multiple images at one time and save results in dictionary format\n",
        "\n",
        "\n",
        "def run_inference(TEST_IMAGE_PATHS, model=detection_model):\n",
        "  result = {}\n",
        "\n",
        "  for image_path in TEST_IMAGE_PATHS:\n",
        "    image_np = np.array(Image.open(image_path))\n",
        "    output_dict = run_inference_for_single_image(detection_model, image_np)\n",
        "    filename = os.path.basename(image_path).split(\".\")[0]\n",
        "    result[filename] = get_classes_name_and_scores(\n",
        "        output_dict['detection_boxes'],\n",
        "        output_dict['detection_classes'],\n",
        "        output_dict['detection_scores'],\n",
        "        category_index)\n",
        "  return result\n",
        "\n"
      ]
    },
    {
      "cell_type": "code",
      "execution_count": null,
      "metadata": {
        "id": "edoyvfP-8-UM"
      },
      "outputs": [],
      "source": [
        "%%capture\n",
        "if \"research\" not in os.getcwd():\n",
        "  !git clone --depth 1 https://github.com/tensorflow/models\n",
        "  os.chdir('models/research')\n",
        "  sys.path.append('.')\n",
        "  ! cd models/research\n",
        "  ! mkdir outputs\n",
        "else:\n",
        "  ! cd models/research\n",
        "  ! mkdir outputs"
      ]
    },
    {
      "cell_type": "code",
      "execution_count": null,
      "metadata": {
        "id": "4KrRiUCJ7d6c"
      },
      "outputs": [],
      "source": [
        "import json\n",
        "def save_results(result, dir=\"/content/models/research/outputs\"):\n",
        "  if os.path.exists(dir):\n",
        "    image_names = '_'.join(list(result.keys()))\n",
        "    with open(\n",
        "      os.path.join(dir, \"{}_result.txt\".format(image_names)),\n",
        "      'w',\n",
        "      encoding='utf-8') as f:\n",
        "      # new_dict = {}\n",
        "      # for val in result.values():\n",
        "      #   if not val == {}:\n",
        "      #     new_dict.update(val.values())\n",
        "        json.dump(result, f, ensure_ascii=False)\n",
        "  else:\n",
        "    raise ValueError('No output folder is created.')\n",
        "\n"
      ]
    },
    {
      "cell_type": "code",
      "execution_count": null,
      "metadata": {
        "colab": {
          "base_uri": "https://localhost:8080/",
          "height": 187
        },
        "id": "O38-5zW5ZzvF",
        "outputId": "cbb55033-bcda-4025-aa9c-ab130bae486d"
      },
      "outputs": [
        {
          "ename": "NameError",
          "evalue": "ignored",
          "output_type": "error",
          "traceback": [
            "\u001b[0;31m---------------------------------------------------------------------------\u001b[0m",
            "\u001b[0;31mNameError\u001b[0m                                 Traceback (most recent call last)",
            "\u001b[0;32m<ipython-input-29-15e334a3e8b4>\u001b[0m in \u001b[0;36m<cell line: 2>\u001b[0;34m()\u001b[0m\n\u001b[1;32m      1\u001b[0m \u001b[0;31m#result = run_inference(TEST_IMAGE_PATHS, model=detection_model)\u001b[0m\u001b[0;34m\u001b[0m\u001b[0;34m\u001b[0m\u001b[0m\n\u001b[0;32m----> 2\u001b[0;31m \u001b[0msave_results\u001b[0m\u001b[0;34m(\u001b[0m\u001b[0mresult\u001b[0m\u001b[0;34m)\u001b[0m\u001b[0;34m\u001b[0m\u001b[0;34m\u001b[0m\u001b[0m\n\u001b[0m",
            "\u001b[0;31mNameError\u001b[0m: name 'result' is not defined"
          ]
        }
      ],
      "source": [
        "#result = run_inference(TEST_IMAGE_PATHS, model=detection_model)\n",
        "save_results(result)"
      ]
    },
    {
      "cell_type": "code",
      "execution_count": null,
      "metadata": {
        "id": "6qFa2DJeOpA2"
      },
      "outputs": [],
      "source": [
        "# flatten and reduce to only food items?"
      ]
    },
    {
      "cell_type": "code",
      "execution_count": null,
      "metadata": {
        "id": "fWBAWLMMBzFh"
      },
      "outputs": [],
      "source": [
        "\n",
        "result\n",
        "# results only include non-empty dict values see outputs"
      ]
    },
    {
      "cell_type": "code",
      "execution_count": null,
      "metadata": {
        "id": "aKAXFjkB3Hml"
      },
      "outputs": [],
      "source": [
        "print(updated_result)"
      ]
    },
    {
      "cell_type": "code",
      "execution_count": null,
      "metadata": {
        "id": "VwQDLXXyW2nu"
      },
      "outputs": [],
      "source": [
        "#[ val2['name'] for val in result.values() for val2 in val.values() ]\n",
        "{ val.values() for val in result.values() if not val == {} }"
      ]
    },
    {
      "cell_type": "code",
      "execution_count": null,
      "metadata": {
        "id": "YnPI0FfZ4Z6A"
      },
      "outputs": [],
      "source": [
        "#output_dict['detection_boxes'].shape"
      ]
    },
    {
      "cell_type": "code",
      "execution_count": null,
      "metadata": {
        "id": "3a5wMHN8WKMh"
      },
      "outputs": [],
      "source": [
        "for image_path in TEST_IMAGE_PATHS:\n",
        "  show_inference(detection_model, image_path)\n"
      ]
    },
    {
      "cell_type": "markdown",
      "metadata": {
        "id": "lkkrWx_jc-dO"
      },
      "source": [
        "# 2.0 Run inference on API endpoints with FastAPI"
      ]
    },
    {
      "cell_type": "code",
      "execution_count": null,
      "metadata": {
        "id": "KiwGOBc7UW2P"
      },
      "outputs": [],
      "source": [
        "!pip install colabcode\n",
        "!pip install fastapi\n",
        "!pip install python-multipart"
      ]
    },
    {
      "cell_type": "code",
      "execution_count": null,
      "metadata": {
        "id": "HvbTgsWWjsI0"
      },
      "outputs": [],
      "source": [
        "from colabcode import ColabCode\n",
        "from fastapi import FastAPI"
      ]
    },
    {
      "cell_type": "markdown",
      "metadata": {
        "id": "Qq3493rOngyw"
      },
      "source": [
        "API deployment process"
      ]
    },
    {
      "cell_type": "markdown",
      "metadata": {
        "id": "n85Bd9LxnUfk"
      },
      "source": [
        "1. Load images and save the files\n",
        "2. Run an inference\n",
        "3. Save the result dictionary as JSON\n",
        "4. Output into the link"
      ]
    },
    {
      "cell_type": "markdown",
      "metadata": {
        "id": "bT6KVHlk1MxC"
      },
      "source": [
        "#### 1. Load images"
      ]
    },
    {
      "cell_type": "markdown",
      "metadata": {
        "id": "dPFtA-gRGfN8"
      },
      "source": [
        "app.py"
      ]
    },
    {
      "cell_type": "code",
      "execution_count": null,
      "metadata": {
        "id": "QcwlVwyZ2W5Y"
      },
      "outputs": [],
      "source": [
        "cc_images = ColabCode(port=12000, code=False)"
      ]
    },
    {
      "cell_type": "code",
      "execution_count": null,
      "metadata": {
        "id": "FtB0rI6P1PN3"
      },
      "outputs": [],
      "source": [
        "from fastapi import File, UploadFile\n",
        "from typing import List\n",
        "\n",
        "app = FastAPI()\n",
        "\n",
        "@app.post(\"/upload\")\n",
        "def upload(files: List[UploadFile] = File(...)):\n",
        "    for file in files:\n",
        "        try:\n",
        "            with open(file.filename, 'wb') as f:\n",
        "                while contents := file.file.read(640 * 640):\n",
        "                    f.write(contents)\n",
        "        except Exception:\n",
        "            return {\"message\": \"There was an error uploading the file(s)\"}\n",
        "        finally:\n",
        "            file.file.close()\n",
        "\n",
        "    return {\"message\": f\"Successfuly uploaded {[file.filename for file in files]}\"}"
      ]
    },
    {
      "cell_type": "code",
      "execution_count": null,
      "metadata": {
        "id": "t95TiQNq1dqq"
      },
      "outputs": [],
      "source": [
        "cc_images.run_app(app=app)"
      ]
    },
    {
      "cell_type": "markdown",
      "metadata": {
        "id": "gR3wDtNaGkKO"
      },
      "source": [
        "test.py"
      ]
    },
    {
      "cell_type": "code",
      "execution_count": null,
      "metadata": {
        "id": "hjlahzNSbiNL"
      },
      "outputs": [],
      "source": [
        "# import requests\n",
        "# import glob\n",
        "\n",
        "# paths = glob.glob(\"images/*\", recursive=True) # returns a list of file paths\n",
        "# images = [('files', open(p, 'rb')) for p in paths] # or paths[:3] to select the first 3 images\n",
        "# # change the port per necessary\n",
        "# url = 'https://f125-34-29-119-31.ngrok-free.app/upload'#'http://127.0.0.1:12000/upload'\n",
        "# resp = requests.post(url=url, files=images)\n",
        "# print(resp.json())"
      ]
    },
    {
      "cell_type": "code",
      "execution_count": null,
      "metadata": {
        "id": "3mEiWPu_93P1"
      },
      "outputs": [],
      "source": [
        "cc = ColabCode(port=8000, code=False)"
      ]
    },
    {
      "cell_type": "markdown",
      "metadata": {
        "id": "qJguXndvQISP"
      },
      "source": [
        "#### create an architecutre to receive images on server and receive images on client sides"
      ]
    },
    {
      "cell_type": "code",
      "execution_count": null,
      "metadata": {
        "id": "XnZqkJUgra2U"
      },
      "outputs": [],
      "source": [
        "import os\n",
        "import logging\n",
        "from io import BytesIO\n",
        "from typing import List\n",
        "# from warnings import filterwarnings, simplefilter\n",
        "# import ssl\n",
        "\n",
        "# import torch\n",
        "from fastapi import FastAPI, Request, File, UploadFile\n",
        "from fastapi.responses import JSONResponse\n",
        "from PIL import Image\n",
        "\n",
        "app = FastAPI()\n",
        "\n",
        "# model_name = 'efficientdet_d0_coco17_tpu-32'\n",
        "# detection_model = load_model(model_name)\n",
        "\n",
        "# output the results in dictionaries\n",
        "result = run_inference(TEST_IMAGE_PATHS, model=detection_model)\n",
        "\n",
        "model = None\n",
        "\n",
        "@app.on_event(\"startup\")\n",
        "def load_model_to_server():\n",
        "    global model\n",
        "    model_name = 'efficientdet_d0_coco17_tpu-32'\n",
        "    #http://download.tensorflow.org/models/object_detection/tf2/20200711/ssd_mobilenet_v1_fpn_640x640_coco17_tpu-8.tar.gz\n",
        "    detection_model = load_model(model_name)\n",
        "\n",
        "@app.post(\"/upload\")\n",
        "def upload(files: List[UploadFile] = File(...)):\n",
        "    for file in files:\n",
        "        try:\n",
        "            with open(file.filename, 'wb') as f:\n",
        "                while contents := file.file.read(640 * 640):\n",
        "                    f.write(contents)\n",
        "        except Exception:\n",
        "            return {\"message\": \"There was an error uploading the file(s)\"}\n",
        "        finally:\n",
        "            file.file.close()\n",
        "\n",
        "    return {\"message\": f\"Successfuly uploaded {[file.filename for file in files]}\"}\n",
        "\n",
        "@app.post(\"/object_detect\")\n",
        "async def image_detect(request: Request,\n",
        "                       input_file: List[UploadFile]):\n",
        "\n",
        "    if request.method == \"POST\":\n",
        "        # json_result = []\n",
        "        try:\n",
        "            # image = Image.open(BytesIO(await input_file.read()))\n",
        "            # ob = ObjectDetector(image, detection_model)\n",
        "            # json_results = ob.object_detect()\n",
        "            result = run_inference(input_file, model=load_model_to_server())\n",
        "\n",
        "            #logger.info(\"detection results\", json_result)\n",
        "\n",
        "            return JSONResponse({\"data\": result,\n",
        "                                 \"message\": \"object detected successfully\",\n",
        "                                 \"errors\": None},\n",
        "                                status_code=200)\n",
        "        except Exception as error:\n",
        "            #logger.error([\"process failed\", error])\n",
        "            return JSONResponse({\"message\": \"object detection failed\",\n",
        "                                 \"errors\": \"error\"},\n",
        "                                status_code=400)"
      ]
    },
    {
      "cell_type": "code",
      "execution_count": null,
      "metadata": {
        "id": "XRsU7TTsa1DS"
      },
      "outputs": [],
      "source": [
        "cc.run_app(app=app)"
      ]
    },
    {
      "cell_type": "markdown",
      "metadata": {
        "id": "Oe5p-Q76sneP"
      },
      "source": [
        "#### Curl command\n",
        "\n",
        "\n",
        "```\n",
        "curl -X 'POST' \\\n",
        "  'https://91d8-34-143-217-78.ngrok-free.app/object_detect' \\\n",
        "  -H 'accept: application/json' \\\n",
        "  -d ''\n",
        "```\n",
        "\n"
      ]
    },
    {
      "cell_type": "markdown",
      "metadata": {
        "id": "Y3zfa71QtKc3"
      },
      "source": [
        "#### Request URL\n",
        "\n",
        "https://91d8-34-143-217-78.ngrok-free.app/object_detect\n"
      ]
    },
    {
      "cell_type": "code",
      "execution_count": null,
      "metadata": {
        "id": "pWsh327osjRg"
      },
      "outputs": [],
      "source": [
        "import requests\n",
        "import json\n",
        "resp = requests.post(\n",
        "    'https://httpbin.org/post',\n",
        "    json={'website': 'datagy.io'},\n",
        ")\n",
        "\n",
        "print(resp)"
      ]
    },
    {
      "cell_type": "code",
      "execution_count": null,
      "metadata": {
        "id": "bRWG6MVBjGOE"
      },
      "outputs": [],
      "source": [
        "from fastapi import FastAPI, File, UploadFile\n",
        "from typing_extensions import Annotated\n",
        "\n",
        "app = FastAPI()\n",
        "\n",
        "\n",
        "@app.post(\"/files/\")\n",
        "async def create_file(file: Annotated[bytes, File()]):\n",
        "    return {\"file_size\": len(file)}\n",
        "\n",
        "\n",
        "@app.post(\"/uploadfile/\")\n",
        "async def create_upload_file(file: UploadFile):\n",
        "    return {\"filename\": file.filename}"
      ]
    },
    {
      "cell_type": "code",
      "execution_count": null,
      "metadata": {
        "id": "b3Ya01hgwJA3"
      },
      "outputs": [],
      "source": [
        "cc.run_app(app=app)"
      ]
    },
    {
      "cell_type": "code",
      "execution_count": null,
      "metadata": {
        "id": "DCKyTlgR0eR7"
      },
      "outputs": [],
      "source": []
    },
    {
      "cell_type": "code",
      "execution_count": null,
      "metadata": {
        "id": "KfTXFkJRRoLi"
      },
      "outputs": [],
      "source": []
    },
    {
      "cell_type": "markdown",
      "metadata": {
        "id": "UmQL5K1mRoiQ"
      },
      "source": [
        "Object Detection && Embeddings\n",
        "\n",
        "1. Set up architecture to receive images and apply those (test.py) to the model\n",
        "2. Collect inference results per upload by user\n",
        "3. Prepare embeddings of the results so that there is a embedding model behind the scene to improve the accuracy of object detection"
      ]
    },
    {
      "cell_type": "markdown",
      "metadata": {
        "id": "i_d7VPQ3SFie"
      },
      "source": [
        "Object Detection (later)\n",
        "1. Feed datasets coming in from users' upload and train the model to increase the accuracy"
      ]
    },
    {
      "cell_type": "markdown",
      "metadata": {
        "id": "1-ImOSeFSasr"
      },
      "source": [
        "Text Recognition\n",
        "1. package item recognition"
      ]
    },
    {
      "cell_type": "markdown",
      "metadata": {
        "id": "XTSQ__4hSe5f"
      },
      "source": [
        "Receipt Recognition\n",
        "1. Scan receipts OCR"
      ]
    },
    {
      "cell_type": "code",
      "execution_count": null,
      "metadata": {
        "id": "4u-D-BKXSvAL"
      },
      "outputs": [],
      "source": []
    }
  ],
  "metadata": {
    "accelerator": "GPU",
    "colab": {
      "gpuType": "T4",
      "provenance": []
    },
    "kernelspec": {
      "display_name": "Python 3",
      "name": "python3"
    }
  },
  "nbformat": 4,
  "nbformat_minor": 0
}
